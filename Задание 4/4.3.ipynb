{
 "cells": [
  {
   "cell_type": "code",
   "execution_count": 1,
   "metadata": {
    "pycharm": {
     "name": "#%%\n"
    }
   },
   "outputs": [],
   "source": [
    "import numpy as np\n",
    "from sklearn.datasets import make_regression\n",
    "\n",
    "# Generate a model data set for a linear regression problem with one target variable and four features, two of which are informative. Set the parameter that determines the degree of data scatter to 5.0. Ensure reproducible results by setting the appropriate parameter.\n",
    "\n",
    "\n",
    "X, y = make_regression(n_samples=100, n_features=4, n_informative=2, noise=5.0, random_state=0)"
   ]
  },
  {
   "cell_type": "code",
   "execution_count": 2,
   "metadata": {
    "pycharm": {
     "name": "#%%# Split the resulting data set into training and test samples in the ratio 70/30.\n"
    }
   },
   "outputs": [],
   "source": [
    "from sklearn.model_selection import train_test_split\n",
    "\n",
    "# Split the resulting data set into training and test samples in the ratio 70/30.\n",
    "\n",
    "\n",
    "X_train, X_test, y_train, y_test = train_test_split(X, y, test_size=0.3, random_state=0)"
   ]
  },
  {
   "cell_type": "code",
   "execution_count": 3,
   "metadata": {
    "pycharm": {
     "name": "#%%\n"
    }
   },
   "outputs": [
    {
     "data": {
      "text/plain": [
       "ElasticNet(alpha=10)"
      ]
     },
     "execution_count": 3,
     "metadata": {},
     "output_type": "execute_result"
    }
   ],
   "source": [
    "# Build linear regression models using L2- and L1-regularizers. Train these models on the training set using the following values of the regularization coefficient: 0.001, 0.01, 0.2, 1, 2, 10.\n",
    "\n",
    "\n",
    "from sklearn.linear_model import Lasso\n",
    "from sklearn.linear_model import Ridge\n",
    "from sklearn.linear_model import ElasticNet\n",
    "\n",
    "lasso = Lasso(alpha=0.001)\n",
    "ridge = Ridge(alpha=0.01)\n",
    "elastic = ElasticNet(alpha=0.2)\n",
    "\n",
    "lasso1 = Lasso(alpha=1)\n",
    "ridge1 = Ridge(alpha=2)\n",
    "elastic1 = ElasticNet(alpha=10)\n",
    "\n",
    "lasso.fit(X_train, y_train)\n",
    "ridge.fit(X_train, y_train)\n",
    "elastic.fit(X_train, y_train)\n",
    "\n",
    "lasso1.fit(X_train, y_train)\n",
    "ridge1.fit(X_train, y_train)\n",
    "elastic1.fit(X_train, y_train)"
   ]
  },
  {
   "cell_type": "code",
   "execution_count": 4,
   "metadata": {
    "pycharm": {
     "name": "#%%# # For each trained model, obtain predictions on the objects of the test set.# For each trained model, obtain predictions on the objects of the test set.\n"
    }
   },
   "outputs": [],
   "source": [
    "# For each trained model, obtain predictions on the objects of the test set.\n",
    "\n",
    "\n",
    "y_pred_lasso = lasso.predict(X_test)\n",
    "y_pred_ridge = ridge.predict(X_test)\n",
    "y_pred_elastic = elastic.predict(X_test)\n",
    "\n",
    "y_pred_lasso1 = lasso1.predict(X_test)\n",
    "y_pred_ridge1 = ridge1.predict(X_test)\n",
    "y_pred_elastic1 = elastic1.predict(X_test)"
   ]
  },
  {
   "cell_type": "code",
   "execution_count": 5,
   "metadata": {
    "pycharm": {
     "name": "#%%\n"
    }
   },
   "outputs": [
    {
     "name": "stdout",
     "output_type": "stream",
     "text": [
      "[ 1.18434155 -0.60426675 34.85442639 21.23673028]\n",
      "[ 1.18676142 -0.60492807 34.84995139 21.23399997]\n",
      "[ 2.03128531 -0.21709484 31.34360503 18.81924574]\n",
      "\n",
      "[ 0.33075435 -0.         33.92684236 20.26102739]\n",
      "[ 1.49960789 -0.51241457 33.79674367 20.51231871]\n",
      "[0.74192035 0.         4.85745424 2.30698229]\n"
     ]
    }
   ],
   "source": [
    "# Display the coefficients of the regression equations obtained after training each model. Write down the corresponding regression equations.\n",
    "\n",
    "\n",
    "print(lasso.coef_)\n",
    "print(ridge.coef_)\n",
    "print(elastic.coef_)\n",
    "print()\n",
    "print(lasso1.coef_)\n",
    "print(ridge1.coef_)\n",
    "print(elastic1.coef_)"
   ]
  },
  {
   "cell_type": "code",
   "execution_count": 6,
   "metadata": {
    "pycharm": {
     "name": "#%%\n"
    }
   },
   "outputs": [
    {
     "name": "stdout",
     "output_type": "stream",
     "text": [
      "0.975799136008617\n",
      "0.9758079325595335\n",
      "0.9741868032785246\n",
      "\n",
      "0.9791240612231039\n",
      "0.9776873726267483\n",
      "0.21370416717473317\n"
     ]
    }
   ],
   "source": [
    "# Display the mean squared error of the regression models obtained after training each model.\n",
    "\n",
    "\n",
    "print(lasso.score(X_test, y_test))\n",
    "print(ridge.score(X_test, y_test))\n",
    "print(elastic.score(X_test, y_test))\n",
    "print()\n",
    "print(lasso1.score(X_test, y_test))\n",
    "print(ridge1.score(X_test, y_test))\n",
    "print(elastic1.score(X_test, y_test))"
   ]
  },
  {
   "cell_type": "code",
   "execution_count": 7,
   "metadata": {
    "pycharm": {
     "name": "#%%\n"
    }
   },
   "outputs": [
    {
     "data": {
      "image/png": "[encoded data removed]",
      "text/plain": [
       "<Figure size 432x288 with 1 Axes>"
      ]
     },
     "metadata": {},
     "output_type": "display_data"
    }
   ],
   "source": [
    "# Plot the training and test errors of the regression models obtained after training each model.\n",
    "\n",
    "\n",
    "import matplotlib.pyplot as plt\n",
    "\n",
    "plt.plot(lasso.coef_, label='Lasso')\n",
    "plt.plot(ridge.coef_, label='Ridge')\n",
    "plt.plot(elastic.coef_, label='ElasticNet')\n",
    "\n",
    "plt.plot(lasso1.coef_, label='Lasso')\n",
    "plt.plot(ridge1.coef_, label='Ridge')\n",
    "plt.plot(elastic1.coef_, label='ElasticNet')\n",
    "\n",
    "plt.xlabel('Coefficient index')\n",
    "plt.ylabel('Coefficient magnitude')\n",
    "plt.hlines(0, 0, len(lasso.coef_))\n",
    "plt.legend()\n",
    "plt.show()"
   ]
  },
  {
   "cell_type": "code",
   "execution_count": 8,
   "metadata": {
    "pycharm": {
     "name": "#%%# Sele# Select the best model based on the test error of the models.\n"
    }
   },
   "outputs": [
    {
     "name": "stdout",
     "output_type": "stream",
     "text": [
      "5.8046379233726535\n",
      "5.803582890093445\n",
      "5.994881391058121\n",
      "\n",
      "5.391166027636729\n",
      "5.573590480166397\n",
      "33.08664154671621\n"
     ]
    }
   ],
   "source": [
    "# Select the best model based on the test error of the models.\n",
    "\n",
    "\n",
    "from sklearn.metrics import mean_squared_error\n",
    "\n",
    "\n",
    "def rmse(y_true, y_pred):\n",
    "    return np.sqrt(mean_squared_error(y_true, y_pred))\n",
    "\n",
    "\n",
    "print(rmse(y_test, y_pred_lasso))\n",
    "print(rmse(y_test, y_pred_ridge))\n",
    "print(rmse(y_test, y_pred_elastic))\n",
    "print()\n",
    "print(rmse(y_test, y_pred_lasso1))\n",
    "print(rmse(y_test, y_pred_ridge1))\n",
    "print(rmse(y_test, y_pred_elastic1))"
   ]
  },
  {
   "cell_type": "code",
   "execution_count": 9,
   "metadata": {
    "pycharm": {
     "name": "#%%# The best model is the one with the lowest test error.# The best model is the one with the lowest test error. # The best model is the one with the lowest test error.\n"
    }
   },
   "outputs": [],
   "source": [
    "# The best model is the one with the lowest test error."
   ]
  }
 ],
 "metadata": {
  "kernelspec": {
   "display_name": "Python 3",
   "language": "python",
   "name": "python3"
  },
  "language_info": {
   "codemirror_mode": {
    "name": "ipython",
    "version": 3
   },
   "file_extension": ".py",
   "mimetype": "text/x-python",
   "name": "python",
   "nbconvert_exporter": "python",
   "pygments_lexer": "ipython3",
   "version": "3.8.13"
  },
  "toc": {
   "base_numbering": 1,
   "nav_menu": {},
   "number_sections": true,
   "sideBar": true,
   "skip_h1_title": false,
   "title_cell": "Table of Contents",
   "title_sidebar": "Contents",
   "toc_cell": false,
   "toc_position": {},
   "toc_section_display": true,
   "toc_window_display": false
  }
 },
 "nbformat": 4,
 "nbformat_minor": 1
}