{
 "cells": [
  {
   "cell_type": "code",
   "execution_count": 61,
   "metadata": {
    "collapsed": true,
    "pycharm": {
     "name": "#%%\n"
    }
   },
   "outputs": [],
   "source": [
    "import random\n",
    "from matplotlib import pyplot as plt\n",
    "from sklearn.datasets import make_classification\n",
    "\n",
    "random_state = random.randint(0, 500)\n",
    "X, y = make_classification(n_samples=200, n_features=2, n_informative=1, n_redundant=0, n_classes=2,\n",
    "                           n_clusters_per_class=1, random_state=random_state, flip_y=5.5)"
   ]
  },
  {
   "cell_type": "code",
   "execution_count": 62,
   "metadata": {
    "pycharm": {
     "name": "#%%\n"
    }
   },
   "outputs": [
    {
     "data": {
      "text/plain": [
       "array([[ 1.91860921, -0.7667277 ],\n",
       "       [ 1.26354438, -0.60184866],\n",
       "       [-1.84269016,  0.98291697],\n",
       "       [-1.33998114,  2.08643688],\n",
       "       [-1.41160827,  0.0147931 ],\n",
       "       [ 0.76657289,  0.47651808],\n",
       "       [ 0.23956348,  0.91546847],\n",
       "       [-2.16767185,  1.4557381 ],\n",
       "       [ 0.88762481,  1.88097553],\n",
       "       [ 1.19380343, -0.66639644],\n",
       "       [-0.71604219, -0.82872516],\n",
       "       [ 0.64629723, -0.07052965],\n",
       "       [ 1.68809297, -0.08720745],\n",
       "       [ 0.99723729,  1.40247906],\n",
       "       [ 0.53979213,  1.35899137],\n",
       "       [ 0.85443004, -2.03440507],\n",
       "       [-1.44819955, -0.15215128],\n",
       "       [-0.18689151, -1.59595939],\n",
       "       [ 0.84780905,  0.07405426],\n",
       "       [-1.20506035,  0.46987402],\n",
       "       [-2.23859116, -1.12864043],\n",
       "       [ 1.21841258, -1.6843008 ],\n",
       "       [-1.68684773, -0.11155446],\n",
       "       [-0.0317892 , -1.55668562],\n",
       "       [-1.98250495, -0.04521799],\n",
       "       [-0.59704484,  0.31434676],\n",
       "       [ 0.87866116, -0.16186748],\n",
       "       [ 0.88920195,  0.18665575],\n",
       "       [-2.02064936,  1.21920045],\n",
       "       [-0.65423257, -1.31981555],\n",
       "       [-1.48604199, -0.8221021 ],\n",
       "       [-1.54866975, -1.29598729],\n",
       "       [-2.02331173,  0.6565547 ],\n",
       "       [-0.58484103, -1.04957955],\n",
       "       [-1.41532129, -0.72973437],\n",
       "       [-0.98457654,  0.02773461],\n",
       "       [ 0.05282685, -1.01237059],\n",
       "       [ 0.99669344, -0.4861489 ],\n",
       "       [ 0.15997464,  0.07368347],\n",
       "       [ 0.84425324,  0.03665595],\n",
       "       [ 1.06627995,  0.92793224],\n",
       "       [-0.31220486,  0.37479624],\n",
       "       [-1.71439731, -1.71830033],\n",
       "       [-1.95656679,  1.77561551],\n",
       "       [-1.35231048, -0.0729729 ],\n",
       "       [ 0.25881597,  0.5277444 ],\n",
       "       [ 1.75559855,  0.78954379],\n",
       "       [ 0.64202706,  0.34380708],\n",
       "       [ 1.0968254 , -1.04496006],\n",
       "       [ 0.87133125,  1.19795534],\n",
       "       [ 0.18938782,  0.64826523],\n",
       "       [-0.93423615,  0.48136065],\n",
       "       [ 1.35427771,  1.19065644],\n",
       "       [-0.78570846, -0.50738363],\n",
       "       [-0.05872814, -0.24987769],\n",
       "       [-0.38007874,  0.17227301],\n",
       "       [-1.27986191,  1.08651751],\n",
       "       [ 1.39695249, -0.16713077],\n",
       "       [-0.89609684,  1.39918798],\n",
       "       [-1.90521847,  0.07842478],\n",
       "       [ 1.02732403, -1.10772226],\n",
       "       [-1.93891134,  1.06594149],\n",
       "       [-0.45540758, -0.96840068],\n",
       "       [-0.79118746,  1.81668739],\n",
       "       [-0.87253349,  0.12019936],\n",
       "       [ 0.92625943,  2.64934028],\n",
       "       [ 1.24672845,  0.80507262],\n",
       "       [ 1.20046367, -1.18860787],\n",
       "       [ 0.82542796,  0.39281991],\n",
       "       [ 1.70538355, -0.46171076],\n",
       "       [-0.14250517, -2.86454153],\n",
       "       [ 1.56914083, -1.03210391],\n",
       "       [-0.2819987 , -1.0497101 ],\n",
       "       [ 0.66195774, -0.6617526 ],\n",
       "       [ 0.83381442,  1.07404582],\n",
       "       [ 0.64843532,  0.58465488],\n",
       "       [ 0.7498711 , -2.39787724],\n",
       "       [ 0.76769282,  0.00432899],\n",
       "       [-1.4858025 , -2.03278568],\n",
       "       [ 0.93981049,  1.03313218],\n",
       "       [-0.38683226,  0.85109818],\n",
       "       [-0.7503042 , -2.0469005 ],\n",
       "       [-0.06369953, -0.19054239],\n",
       "       [ 1.20758527, -0.10640638],\n",
       "       [ 0.65088539,  0.26197508],\n",
       "       [-0.43449323,  0.16516834],\n",
       "       [ 1.37303122, -0.48380149],\n",
       "       [ 0.81840122, -0.10917994],\n",
       "       [-1.44591783, -1.09320962],\n",
       "       [ 1.32551508,  1.77622053],\n",
       "       [-0.65866174, -0.1129242 ],\n",
       "       [ 1.23260049, -0.29394982],\n",
       "       [ 1.0881837 ,  0.0726736 ],\n",
       "       [ 1.15500875, -0.3843065 ],\n",
       "       [ 0.44664593, -1.10948935],\n",
       "       [-2.21082033, -0.88326659],\n",
       "       [ 1.46771845,  1.67069029],\n",
       "       [-0.48565864, -1.07986176],\n",
       "       [-0.95175951,  1.15318118],\n",
       "       [-1.69703998, -1.7913421 ],\n",
       "       [-0.43317116,  0.86065394],\n",
       "       [-2.27943133, -1.43455118],\n",
       "       [ 1.67819806, -0.42162954],\n",
       "       [-0.17143104,  0.44987668],\n",
       "       [ 0.82726794,  0.59349824],\n",
       "       [ 1.47559462, -2.2084635 ],\n",
       "       [ 0.65972149,  1.11495106],\n",
       "       [ 1.07960448,  2.31477185],\n",
       "       [-0.99258027, -0.75141881],\n",
       "       [-1.25223447,  1.28564411],\n",
       "       [ 1.81697877, -0.98133787],\n",
       "       [ 0.51512171, -0.47262598],\n",
       "       [ 1.31851538,  0.08867711],\n",
       "       [ 0.56645514,  0.7491041 ],\n",
       "       [ 1.02941868, -0.45835898],\n",
       "       [-0.59617497, -0.64660231],\n",
       "       [-1.5411434 ,  1.20449811],\n",
       "       [ 1.06031709, -0.72875218],\n",
       "       [ 0.15669379,  1.34478806],\n",
       "       [ 0.61723948,  0.89998486],\n",
       "       [ 1.51655328, -0.88237731],\n",
       "       [-2.80007463, -0.83156645],\n",
       "       [ 1.02084068, -0.24203423],\n",
       "       [-2.26728994,  0.30429556],\n",
       "       [-2.0183586 , -0.64734953],\n",
       "       [ 1.40000151, -0.66452958],\n",
       "       [ 0.7008063 , -0.38437755],\n",
       "       [ 0.76275963,  0.46094653],\n",
       "       [ 0.892002  ,  0.32505005],\n",
       "       [-1.5760359 , -0.81985576],\n",
       "       [ 0.62412198, -0.88089051],\n",
       "       [-1.26359735, -0.22061608],\n",
       "       [-0.56809667,  0.70363954],\n",
       "       [-0.03957434,  0.13896727],\n",
       "       [ 1.19198479, -1.34683871],\n",
       "       [ 1.03654569, -0.07418962],\n",
       "       [-1.64000763,  0.71815259],\n",
       "       [ 1.7099445 ,  0.78474569],\n",
       "       [-1.21139848, -1.55557881],\n",
       "       [-1.12214653, -0.70346674],\n",
       "       [ 1.34064601, -0.67121066],\n",
       "       [-1.47690567,  0.3424098 ],\n",
       "       [ 0.87552854, -1.74036738],\n",
       "       [-1.90658496, -0.72085395],\n",
       "       [ 0.27939609,  0.49329723],\n",
       "       [ 0.61577687, -1.43668904],\n",
       "       [-1.3112765 ,  0.4836224 ],\n",
       "       [ 1.05483678, -1.30253697],\n",
       "       [ 1.54686654,  0.49576051],\n",
       "       [ 1.01474893,  0.08908225],\n",
       "       [-0.98013642,  0.72793739],\n",
       "       [-2.10301819, -1.08526089],\n",
       "       [ 0.68242181,  0.60134599],\n",
       "       [ 0.6205174 , -1.4521891 ],\n",
       "       [-0.61257219, -0.32393658],\n",
       "       [-1.38596733, -0.9329191 ],\n",
       "       [-1.40257669,  0.02972026],\n",
       "       [ 1.03617002, -2.61021206],\n",
       "       [ 0.59165215, -0.67281839],\n",
       "       [ 0.37407554, -1.11898026],\n",
       "       [-2.59181573,  1.35481305],\n",
       "       [ 1.83014265,  0.9873418 ],\n",
       "       [ 1.08600292, -0.65391087],\n",
       "       [ 1.57394362,  0.79331914],\n",
       "       [ 1.62100173, -0.4249272 ],\n",
       "       [ 0.66986426,  0.1769069 ],\n",
       "       [ 1.48786374,  1.30839405],\n",
       "       [ 0.36271646,  0.53741888],\n",
       "       [-0.0626078 , -0.05173193],\n",
       "       [ 1.1268577 , -0.21991666],\n",
       "       [-0.23761561,  0.3719851 ],\n",
       "       [-0.99385549,  0.78870934],\n",
       "       [ 0.45011904,  0.50849712],\n",
       "       [-0.70599844,  0.31188251],\n",
       "       [ 1.20788122, -0.24218967],\n",
       "       [ 0.48141136, -1.68627878],\n",
       "       [ 1.00365138,  0.8322476 ],\n",
       "       [-1.15722191,  0.11974758],\n",
       "       [ 0.77937381, -0.38177712],\n",
       "       [ 1.00755656,  2.37616592],\n",
       "       [-1.3954236 ,  0.94899478],\n",
       "       [-2.00881118,  0.66057122],\n",
       "       [-1.37691223,  0.44350287],\n",
       "       [ 0.31527189, -2.58521086],\n",
       "       [ 1.36557914,  1.29766626],\n",
       "       [-0.8556716 , -1.7035056 ],\n",
       "       [-0.78515426,  0.32925337],\n",
       "       [-1.84835613, -1.61772861],\n",
       "       [-1.76587062, -0.52253947],\n",
       "       [ 1.21546054,  1.05914955],\n",
       "       [ 0.88998579,  1.09983505],\n",
       "       [ 0.79510281,  0.78881475],\n",
       "       [-0.73811958, -0.59350621],\n",
       "       [-0.86079639,  0.97858952],\n",
       "       [ 0.71796992,  1.61630926],\n",
       "       [-1.49901673, -1.03838515],\n",
       "       [-1.69035091, -0.81492077],\n",
       "       [ 0.12923168, -0.96304   ],\n",
       "       [-0.74131858, -1.2026065 ],\n",
       "       [-0.8157286 , -1.40185511]])"
      ]
     },
     "execution_count": 62,
     "metadata": {},
     "output_type": "execute_result"
    }
   ],
   "source": [
    "X"
   ]
  },
  {
   "cell_type": "code",
   "execution_count": 63,
   "metadata": {
    "pycharm": {
     "name": "#%%\n"
    }
   },
   "outputs": [
    {
     "data": {
      "text/plain": [
       "array([1, 0, 1, 1, 1, 1, 0, 1, 0, 0, 0, 0, 0, 0, 1, 0, 0, 1, 0, 0, 1, 0,\n",
       "       1, 1, 0, 1, 0, 1, 1, 1, 0, 0, 0, 0, 0, 0, 0, 1, 0, 0, 1, 1, 1, 0,\n",
       "       0, 1, 1, 0, 0, 1, 0, 0, 0, 1, 1, 0, 0, 0, 1, 1, 1, 0, 1, 0, 0, 1,\n",
       "       0, 1, 0, 0, 1, 1, 1, 1, 0, 0, 0, 0, 0, 1, 0, 0, 0, 1, 0, 1, 1, 1,\n",
       "       0, 1, 1, 1, 0, 0, 0, 0, 0, 0, 1, 0, 1, 0, 0, 0, 0, 0, 0, 0, 1, 0,\n",
       "       0, 0, 0, 0, 1, 1, 1, 1, 1, 0, 1, 1, 0, 0, 0, 0, 1, 0, 0, 1, 0, 1,\n",
       "       0, 0, 0, 0, 0, 1, 1, 0, 0, 0, 0, 0, 1, 1, 1, 0, 1, 0, 1, 0, 0, 1,\n",
       "       0, 0, 0, 1, 1, 0, 0, 0, 1, 1, 1, 1, 1, 1, 0, 1, 0, 1, 1, 1, 1, 1,\n",
       "       0, 1, 1, 1, 1, 1, 0, 0, 1, 1, 1, 0, 1, 0, 1, 1, 0, 0, 1, 1, 1, 1,\n",
       "       0, 1])"
      ]
     },
     "execution_count": 63,
     "metadata": {},
     "output_type": "execute_result"
    }
   ],
   "source": [
    "y"
   ]
  },
  {
   "cell_type": "code",
   "execution_count": 64,
   "metadata": {
    "pycharm": {
     "name": "#%%\n"
    }
   },
   "outputs": [
    {
     "data": {
      "text/plain": [
       "<matplotlib.collections.PathCollection at 0x1f0525e0160>"
      ]
     },
     "execution_count": 64,
     "metadata": {},
     "output_type": "execute_result"
    },
    {
     "data": {
      "image/png": "[encoded data removed]",
      "text/plain": [
       "<Figure size 432x288 with 1 Axes>"
      ]
     },
     "metadata": {
      "needs_background": "light"
     },
     "output_type": "display_data"
    }
   ],
   "source": [
    "from matplotlib.colors import ListedColormap\n",
    "\n",
    "colors = ListedColormap(['red', 'blue'])\n",
    "plt.scatter(X[:, 0], X[:, 1], c=y, cmap=colors)"
   ]
  },
  {
   "cell_type": "code",
   "execution_count": 65,
   "metadata": {
    "pycharm": {
     "name": "#%%\n"
    }
   },
   "outputs": [],
   "source": [
    "# Divide the dataset into training and test samples in the ratio 70/30.\n",
    "from sklearn.model_selection import train_test_split\n",
    "\n",
    "X_train, X_test, y_train, y_test = train_test_split(X, y, test_size=0.3, random_state=random_state)"
   ]
  },
  {
   "cell_type": "code",
   "execution_count": 66,
   "metadata": {
    "pycharm": {
     "name": "#%%\n"
    }
   },
   "outputs": [
    {
     "data": {
      "text/plain": [
       "LogisticRegression(random_state=158)"
      ]
     },
     "execution_count": 66,
     "metadata": {},
     "output_type": "execute_result"
    }
   ],
   "source": [
    "# Create a linear classification model using the L2 regularizer and train it on the training set.\n",
    "from sklearn.linear_model import LogisticRegression\n",
    "\n",
    "classifier = LogisticRegression(penalty='l2', random_state=random_state)\n",
    "classifier.fit(X_train, y_train)"
   ]
  },
  {
   "cell_type": "code",
   "execution_count": 67,
   "metadata": {
    "pycharm": {
     "name": "#%%\n"
    }
   },
   "outputs": [],
   "source": [
    "from sklearn.linear_model import SGDClassifier\n",
    "\n",
    "classifiers = [\n",
    "    SGDClassifier(loss='hinge', penalty='l2', random_state=random_state),\n",
    "    SGDClassifier(loss='modified_huber', penalty='l1', random_state=random_state),\n",
    "]"
   ]
  },
  {
   "cell_type": "code",
   "execution_count": 68,
   "metadata": {
    "pycharm": {
     "name": "#%%\n"
    }
   },
   "outputs": [
    {
     "name": "stdout",
     "output_type": "stream",
     "text": [
      "Accuracy: 0.52\n",
      "Recall: 0.57\n",
      "F1: 0.52\n",
      "\n",
      "Accuracy: 0.38\n",
      "Recall: 0.46\n",
      "F1: 0.41\n",
      "\n"
     ]
    }
   ],
   "source": [
    "# assess the quality of these models using the metrics of accuracy, recall, and F-measures.\n",
    "from sklearn.metrics import accuracy_score, recall_score, f1_score\n",
    "\n",
    "\n",
    "def evaluate_model(model, X_test, y_test):\n",
    "    y_pred = model.predict(X_test)\n",
    "    accuracy = accuracy_score(y_test, y_pred)\n",
    "    recall = recall_score(y_test, y_pred)\n",
    "    f1 = f1_score(y_test, y_pred)\n",
    "    return accuracy, recall, f1\n",
    "\n",
    "\n",
    "for classifier in classifiers:\n",
    "    classifier.fit(X_train, y_train)\n",
    "    accuracy, recall, f1 = evaluate_model(classifier, X_test, y_test)\n",
    "    print('Accuracy: {:.2f}'.format(accuracy))\n",
    "    print('Recall: {:.2f}'.format(recall))\n",
    "    print('F1: {:.2f}'.format(f1))\n",
    "    print()"
   ]
  },
  {
   "cell_type": "code",
   "execution_count": 69,
   "metadata": {
    "pycharm": {
     "name": "#%%\n"
    }
   },
   "outputs": [
    {
     "name": "stdout",
     "output_type": "stream",
     "text": [
      "Error Matrix:\n",
      "[[15 17]\n",
      " [12 16]]\n",
      "\n",
      "Precision: 0.48\n",
      "Recall: 0.57\n",
      "F1: 0.71\n",
      "\n",
      "Error Matrix:\n",
      "[[10 22]\n",
      " [15 13]]\n",
      "\n",
      "Precision: 0.37\n",
      "Recall: 0.46\n",
      "F1: 0.52\n",
      "\n"
     ]
    }
   ],
   "source": [
    "# Get the error matrix. Using this matrix, calculate the values of precision, recall and F1 score.\n",
    "from sklearn.metrics import confusion_matrix\n",
    "\n",
    "\n",
    "def get_error_matrix(model, X_test, y_test):\n",
    "    y_pred = model.predict(X_test)\n",
    "    return confusion_matrix(y_test, y_pred)\n",
    "\n",
    "\n",
    "for classifier in classifiers:\n",
    "    classifier.fit(X_train, y_train)\n",
    "    error_matrix = get_error_matrix(classifier, X_test, y_test)\n",
    "    print('Error Matrix:')\n",
    "    print(error_matrix)\n",
    "    print()\n",
    "    print('Precision: {:.2f}'.format(error_matrix[1, 1] / (error_matrix[1, 1] + error_matrix[0, 1])))\n",
    "    print('Recall: {:.2f}'.format(error_matrix[1, 1] / (error_matrix[1, 1] + error_matrix[1, 0])))\n",
    "    print('F1: {:.2f}'.format(2 * error_matrix[1, 1] / (error_matrix[1, 1] + error_matrix[0, 1] + error_matrix[1, 0])))\n",
    "    print()"
   ]
  },
  {
   "cell_type": "code",
   "execution_count": 70,
   "metadata": {
    "pycharm": {
     "name": "#%%\n"
    }
   },
   "outputs": [
    {
     "data": {
      "image/png": "[encoded data removed]",
      "text/plain": [
       "<Figure size 432x288 with 1 Axes>"
      ]
     },
     "metadata": {
      "needs_background": "light"
     },
     "output_type": "display_data"
    }
   ],
   "source": [
    "# Obtain the FPR and TPR values for the models under consideration.\n",
    "from sklearn.metrics import roc_curve\n",
    "\n",
    "\n",
    "def get_roc_curve(model, X_test, y_test):\n",
    "    y_pred = model.predict(X_test)\n",
    "    fpr, tpr, _ = roc_curve(y_test, y_pred)\n",
    "    return fpr, tpr\n",
    "\n",
    "\n",
    "for classifier in classifiers:\n",
    "    classifier.fit(X_train, y_train)\n",
    "    fpr, tpr = get_roc_curve(classifier, X_test, y_test)\n",
    "    plt.plot(fpr, tpr, label=classifier.__class__.__name__)\n",
    "plt.plot([0, 1], [0, 1], 'k--')\n",
    "plt.xlim([0.0, 1.0])\n",
    "plt.ylim([0.0, 1.05])\n",
    "plt.xlabel('False Positive Rate')\n",
    "plt.ylabel('True Positive Rate')\n",
    "plt.title('ROC Curve')\n",
    "plt.legend(loc=\"lower right\")\n",
    "plt.show()"
   ]
  }
 ],
 "metadata": {
  "kernelspec": {
   "display_name": "Python 3",
   "language": "python",
   "name": "python3"
  },
  "language_info": {
   "codemirror_mode": {
    "name": "ipython",
    "version": 3
   },
   "file_extension": ".py",
   "mimetype": "text/x-python",
   "name": "python",
   "nbconvert_exporter": "python",
   "pygments_lexer": "ipython3",
   "version": "3.8.13"
  },
  "toc": {
   "base_numbering": 1,
   "nav_menu": {},
   "number_sections": true,
   "sideBar": true,
   "skip_h1_title": false,
   "title_cell": "Table of Contents",
   "title_sidebar": "Contents",
   "toc_cell": false,
   "toc_position": {},
   "toc_section_display": true,
   "toc_window_display": false
  }
 },
 "nbformat": 4,
 "nbformat_minor": 1
}