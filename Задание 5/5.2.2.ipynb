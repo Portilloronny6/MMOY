{
 "cells": [
  {
   "cell_type": "code",
   "execution_count": 1,
   "metadata": {
    "collapsed": true,
    "pycharm": {
     "name": "#%%\n"
    }
   },
   "outputs": [],
   "source": [
    "import random\n",
    "from matplotlib import pyplot as plt\n",
    "from sklearn.datasets import make_classification\n",
    "\n",
    "random_state = random.randint(0, 500)\n",
    "X, y = make_classification(n_samples=200, n_features=2, n_informative=1, n_redundant=0, n_classes=2,\n",
    "                           n_clusters_per_class=1, random_state=random_state, flip_y=5.5)"
   ]
  },
  {
   "cell_type": "code",
   "execution_count": 2,
   "metadata": {
    "pycharm": {
     "name": "#%%\n"
    }
   },
   "outputs": [
    {
     "data": {
      "text/plain": [
       "array([[-1.98968328,  0.09304684],\n",
       "       [ 0.01430992, -0.95749816],\n",
       "       [ 1.13741355,  0.44045724],\n",
       "       [-0.37246482,  0.86228615],\n",
       "       [-0.08196455, -1.21540788],\n",
       "       [ 0.39969089,  0.2743729 ],\n",
       "       [ 1.28768889,  2.08349757],\n",
       "       [-0.43187943, -0.04210753],\n",
       "       [-0.0483392 , -0.3154365 ],\n",
       "       [-2.00339599, -2.34734369],\n",
       "       [ 0.65683482, -0.21102865],\n",
       "       [ 2.24041985,  0.087614  ],\n",
       "       [-1.43635891,  0.32115888],\n",
       "       [ 0.76840932, -0.14710963],\n",
       "       [-0.97376561, -0.83076223],\n",
       "       [-0.1646294 , -1.53139131],\n",
       "       [-0.51185423,  2.17168482],\n",
       "       [-0.30868809,  1.19813935],\n",
       "       [-1.07165427,  0.93218427],\n",
       "       [-1.12346974,  0.15338683],\n",
       "       [-0.43040709,  0.92304677],\n",
       "       [-1.8029327 , -1.24944894],\n",
       "       [ 0.99312532, -0.69014347],\n",
       "       [ 1.04108755,  1.5154619 ],\n",
       "       [-2.00721886,  0.46415617],\n",
       "       [-2.3534023 ,  1.78332911],\n",
       "       [ 1.16470351, -0.47873837],\n",
       "       [-1.51051494,  0.84678425],\n",
       "       [-0.03993506,  0.15640882],\n",
       "       [-1.20980803, -0.27728532],\n",
       "       [ 0.78784885,  0.95670664],\n",
       "       [-0.97845728, -0.4393091 ],\n",
       "       [ 1.15521188,  0.07606896],\n",
       "       [ 1.7120009 , -0.23115039],\n",
       "       [ 0.32330104,  1.74644666],\n",
       "       [ 1.2808183 , -0.26111141],\n",
       "       [-1.98660539, -0.38813614],\n",
       "       [-2.39360472, -1.64452967],\n",
       "       [-0.69331215, -0.82924765],\n",
       "       [ 0.70245735,  1.10095833],\n",
       "       [ 1.86930497,  0.23495533],\n",
       "       [-0.98833879,  0.01122812],\n",
       "       [ 0.6069879 ,  0.88428299],\n",
       "       [-0.98443627,  0.05053747],\n",
       "       [-0.98954118, -1.7109415 ],\n",
       "       [ 0.2117536 , -0.2746966 ],\n",
       "       [ 0.53810005,  0.9611054 ],\n",
       "       [ 0.16505793,  0.05923091],\n",
       "       [ 1.38561194,  1.05335763],\n",
       "       [ 1.3678179 ,  1.69834576],\n",
       "       [ 0.76771089,  1.6888132 ],\n",
       "       [ 0.92645277,  0.81886035],\n",
       "       [-0.49472563,  0.39753475],\n",
       "       [ 0.66324982, -0.20711332],\n",
       "       [-1.24689104, -0.54109772],\n",
       "       [-0.13563591, -1.53647729],\n",
       "       [ 0.9150537 ,  0.63426197],\n",
       "       [ 1.61364247,  2.04905012],\n",
       "       [ 0.16575149,  0.1559777 ],\n",
       "       [ 0.67953146,  0.35144704],\n",
       "       [ 0.0437514 ,  0.65706452],\n",
       "       [ 1.3923553 , -0.15337286],\n",
       "       [ 0.97105801, -0.24597668],\n",
       "       [-0.4656297 , -1.51799569],\n",
       "       [-1.66617317, -1.21325256],\n",
       "       [ 0.09581718, -0.63232981],\n",
       "       [-1.4465229 , -1.24231998],\n",
       "       [-0.4947566 ,  1.6444287 ],\n",
       "       [-0.05280542,  0.81632097],\n",
       "       [-2.45342085, -1.37029685],\n",
       "       [-2.07228469,  1.56000133],\n",
       "       [ 1.63606552,  0.47191149],\n",
       "       [-0.8742812 ,  0.14409793],\n",
       "       [ 2.41271054,  0.42763975],\n",
       "       [ 0.97423941,  0.27802776],\n",
       "       [-1.91124182,  2.38090066],\n",
       "       [ 1.10395556,  1.94945845],\n",
       "       [-1.03877792, -0.03993062],\n",
       "       [ 1.27219182,  0.70118251],\n",
       "       [-0.0164608 , -2.11406382],\n",
       "       [-1.22813915, -0.69569779],\n",
       "       [-0.60697287, -1.33205955],\n",
       "       [ 0.4818493 ,  0.08362306],\n",
       "       [ 1.18424078,  1.06776787],\n",
       "       [-0.51311598, -0.86912087],\n",
       "       [ 0.16727552, -0.78365565],\n",
       "       [-0.3621436 , -0.62783274],\n",
       "       [-0.24330071, -0.11830091],\n",
       "       [-1.85563122,  1.20867533],\n",
       "       [-0.75406542,  0.20214573],\n",
       "       [ 1.31339161,  2.11975617],\n",
       "       [ 0.91485751, -1.23138392],\n",
       "       [ 1.15830477, -0.56633984],\n",
       "       [ 0.1036631 , -0.74003356],\n",
       "       [-0.03202143, -0.74832852],\n",
       "       [-0.55421755, -0.70077806],\n",
       "       [-0.32235542,  0.49843171],\n",
       "       [ 1.72033802, -0.8518273 ],\n",
       "       [-1.21353128,  0.83037453],\n",
       "       [-1.44747613,  1.70333948],\n",
       "       [-1.21758874,  0.34232616],\n",
       "       [-0.45910524, -0.60927145],\n",
       "       [ 0.12120816,  1.57792596],\n",
       "       [ 1.03677218, -0.54526303],\n",
       "       [ 2.06372519,  0.82257695],\n",
       "       [-0.67726411, -2.19000479],\n",
       "       [-1.96236529,  0.71299363],\n",
       "       [ 1.2183042 ,  0.65632956],\n",
       "       [ 0.93077723,  0.88992174],\n",
       "       [-0.21527343, -0.75261285],\n",
       "       [ 1.54449178,  0.45788745],\n",
       "       [ 0.59926363,  1.48830676],\n",
       "       [-1.51585543, -1.47101102],\n",
       "       [ 1.30963094,  1.04647656],\n",
       "       [-0.24631505, -1.72242963],\n",
       "       [ 0.79344904, -0.62200697],\n",
       "       [ 0.44424011, -0.28264767],\n",
       "       [ 1.08903326, -0.62034373],\n",
       "       [-1.80601134, -0.87170933],\n",
       "       [-0.45881351, -1.58475924],\n",
       "       [-0.66991533,  2.84799945],\n",
       "       [ 0.76138486, -0.51471641],\n",
       "       [-1.31821399, -0.15671462],\n",
       "       [-1.9574398 ,  0.68136726],\n",
       "       [ 1.42861485,  0.15937209],\n",
       "       [-0.49758184,  0.32219212],\n",
       "       [-1.19707685,  1.47069254],\n",
       "       [ 2.01592592, -0.19124433],\n",
       "       [-1.58087999,  0.97399649],\n",
       "       [ 1.17992519, -2.21688744],\n",
       "       [-0.32016329, -0.2027935 ],\n",
       "       [ 1.5403348 , -0.52298061],\n",
       "       [ 0.25201897,  0.92493419],\n",
       "       [ 0.60435949,  0.49872747],\n",
       "       [-0.31601079, -0.33571296],\n",
       "       [-0.63180285,  1.87419285],\n",
       "       [ 0.28433826, -1.41044608],\n",
       "       [-0.50699736, -0.67786566],\n",
       "       [ 1.35201798,  0.07879138],\n",
       "       [ 0.0074269 , -0.0538927 ],\n",
       "       [-3.51799333, -1.00498739],\n",
       "       [ 0.85750276,  0.5552505 ],\n",
       "       [-0.10879138, -0.67191294],\n",
       "       [ 0.05464256, -1.01079702],\n",
       "       [-0.55926107,  2.58523658],\n",
       "       [-0.08456107,  0.19582619],\n",
       "       [ 0.90933157,  1.50515117],\n",
       "       [-0.40207093, -0.40559045],\n",
       "       [ 1.5656341 ,  1.00591855],\n",
       "       [ 0.7200625 ,  1.70351261],\n",
       "       [ 0.69105847,  1.44002141],\n",
       "       [-2.33044353,  1.25439292],\n",
       "       [-1.95298379, -0.17358296],\n",
       "       [-1.08870237,  1.01496587],\n",
       "       [ 1.1623853 , -2.17937623],\n",
       "       [-0.28888218,  0.35623911],\n",
       "       [ 0.71280837, -1.39988166],\n",
       "       [-0.37292903, -2.63718973],\n",
       "       [-0.90728319,  2.46806595],\n",
       "       [-0.12535809, -0.46328335],\n",
       "       [-2.11984642,  0.27538271],\n",
       "       [ 0.63132342,  0.60939461],\n",
       "       [ 1.67203891,  1.64794885],\n",
       "       [ 0.07959642, -1.6509603 ],\n",
       "       [ 1.266802  ,  0.72592674],\n",
       "       [-1.58739473,  0.20167468],\n",
       "       [ 1.83887688,  0.47104889],\n",
       "       [ 1.37518834,  0.67425339],\n",
       "       [-2.74855473, -1.38499786],\n",
       "       [-1.08359867, -0.31404167],\n",
       "       [-1.28622987, -0.50972454],\n",
       "       [ 0.74545438, -0.433643  ],\n",
       "       [-1.49577281,  0.7975245 ],\n",
       "       [-2.8538361 ,  2.64515562],\n",
       "       [ 0.29808118, -0.59916764],\n",
       "       [-0.93713211,  0.34745409],\n",
       "       [ 0.51459357,  0.67036123],\n",
       "       [-0.63670362, -1.23351959],\n",
       "       [-2.11590284,  0.00814586],\n",
       "       [-3.26387627, -1.59880203],\n",
       "       [-2.25107818, -1.22158769],\n",
       "       [-0.91409439,  0.54571804],\n",
       "       [ 0.99801133,  0.74379495],\n",
       "       [ 1.04209342, -0.17252693],\n",
       "       [-1.12429642,  1.76256191],\n",
       "       [ 0.60072166, -0.0079364 ],\n",
       "       [-0.20961209,  0.78812938],\n",
       "       [ 0.9992155 , -0.13446693],\n",
       "       [ 0.94110093,  0.50807826],\n",
       "       [ 1.56554344,  0.17086726],\n",
       "       [-2.13518977, -0.827285  ],\n",
       "       [-0.70033242, -0.70946777],\n",
       "       [ 1.91962916, -0.17145954],\n",
       "       [ 0.38206558,  1.03765606],\n",
       "       [ 1.51824878, -1.38073727],\n",
       "       [ 0.43762679, -0.55157059],\n",
       "       [-0.42799787,  0.47892759],\n",
       "       [-1.38533926, -1.12633052],\n",
       "       [-1.15001866, -0.57589142],\n",
       "       [-1.63085797, -0.40667993]])"
      ]
     },
     "execution_count": 2,
     "metadata": {},
     "output_type": "execute_result"
    }
   ],
   "source": [
    "X"
   ]
  },
  {
   "cell_type": "code",
   "execution_count": 3,
   "metadata": {
    "pycharm": {
     "name": "#%%\n"
    }
   },
   "outputs": [
    {
     "data": {
      "text/plain": [
       "array([0, 1, 1, 0, 0, 1, 0, 1, 0, 1, 0, 0, 1, 0, 1, 1, 1, 0, 0, 0, 1, 1,\n",
       "       1, 0, 0, 1, 0, 0, 1, 0, 1, 0, 1, 1, 1, 1, 0, 0, 0, 1, 1, 0, 1, 0,\n",
       "       0, 1, 0, 0, 1, 1, 0, 1, 0, 0, 1, 0, 0, 1, 1, 0, 0, 0, 1, 1, 1, 0,\n",
       "       1, 1, 0, 1, 0, 1, 1, 1, 0, 1, 1, 1, 0, 1, 0, 0, 1, 0, 0, 1, 0, 0,\n",
       "       0, 1, 0, 1, 0, 1, 0, 1, 1, 0, 0, 1, 1, 0, 0, 0, 1, 1, 1, 0, 0, 1,\n",
       "       0, 0, 1, 0, 1, 0, 1, 0, 0, 1, 0, 0, 0, 1, 0, 1, 1, 0, 1, 1, 1, 0,\n",
       "       0, 1, 0, 1, 0, 0, 0, 0, 0, 0, 1, 0, 0, 0, 0, 1, 1, 1, 1, 1, 1, 1,\n",
       "       0, 0, 0, 0, 1, 0, 1, 1, 1, 1, 1, 0, 0, 0, 1, 0, 1, 1, 0, 1, 0, 0,\n",
       "       0, 1, 1, 1, 0, 1, 1, 1, 0, 0, 0, 0, 0, 1, 0, 0, 1, 1, 0, 0, 0, 1,\n",
       "       0, 0])"
      ]
     },
     "execution_count": 3,
     "metadata": {},
     "output_type": "execute_result"
    }
   ],
   "source": [
    "y"
   ]
  },
  {
   "cell_type": "code",
   "execution_count": 4,
   "metadata": {
    "pycharm": {
     "name": "#%%\n"
    }
   },
   "outputs": [
    {
     "data": {
      "text/plain": [
       "<matplotlib.collections.PathCollection at 0x29229e7c7f0>"
      ]
     },
     "execution_count": 4,
     "metadata": {},
     "output_type": "execute_result"
    },
    {
     "data": {
      "image/png": "[encoded data removed]",
      "text/plain": [
       "<Figure size 432x288 with 1 Axes>"
      ]
     },
     "metadata": {
      "needs_background": "light"
     },
     "output_type": "display_data"
    }
   ],
   "source": [
    "from matplotlib.colors import ListedColormap\n",
    "\n",
    "colors = ListedColormap(['red', 'blue'])\n",
    "plt.scatter(X[:, 0], X[:, 1], c=y, cmap=colors)"
   ]
  },
  {
   "cell_type": "code",
   "execution_count": 5,
   "metadata": {
    "pycharm": {
     "name": "#%%\n"
    }
   },
   "outputs": [],
   "source": [
    "# Divide the dataset into training and test samples in the ratio 70/30.\n",
    "from sklearn.model_selection import train_test_split\n",
    "\n",
    "X_train, X_test, y_train, y_test = train_test_split(X, y, test_size=0.3, random_state=random_state)"
   ]
  },
  {
   "cell_type": "code",
   "execution_count": 6,
   "metadata": {
    "pycharm": {
     "name": "#%%\n"
    }
   },
   "outputs": [
    {
     "data": {
      "text/plain": [
       "LogisticRegression(random_state=22)"
      ]
     },
     "execution_count": 6,
     "metadata": {},
     "output_type": "execute_result"
    }
   ],
   "source": [
    "# Create a linear classification model using the L2 regularizer and train it on the training set.\n",
    "from sklearn.linear_model import LogisticRegression\n",
    "\n",
    "classifier = LogisticRegression(penalty='l2', random_state=random_state)\n",
    "classifier.fit(X_train, y_train)"
   ]
  },
  {
   "cell_type": "code",
   "execution_count": 7,
   "metadata": {
    "pycharm": {
     "name": "#%%\n"
    }
   },
   "outputs": [
    {
     "data": {
      "text/plain": [
       "array([[25,  3],\n",
       "       [31,  1]], dtype=int64)"
      ]
     },
     "execution_count": 7,
     "metadata": {},
     "output_type": "execute_result"
    }
   ],
   "source": [
    "# Get the predictions of the trained model for the test set objects. Generate a matrix of responses in the test sample and a matrix of values predicted by the model. Assess classification quality using the accuracy metric.\n",
    "y_pred = classifier.predict(X_test)\n",
    "from sklearn.metrics import accuracy_score\n",
    "from sklearn.metrics import confusion_matrix\n",
    "\n",
    "confusion_matrix(y_test, y_pred)"
   ]
  },
  {
   "cell_type": "code",
   "execution_count": 8,
   "metadata": {
    "pycharm": {
     "name": "#%%\n"
    }
   },
   "outputs": [
    {
     "data": {
      "text/plain": [
       "0.43333333333333335"
      ]
     },
     "execution_count": 8,
     "metadata": {},
     "output_type": "execute_result"
    }
   ],
   "source": [
    "accuracy_score(y_test, y_pred)"
   ]
  },
  {
   "cell_type": "code",
   "execution_count": 9,
   "metadata": {
    "pycharm": {
     "name": "#%%\n"
    }
   },
   "outputs": [
    {
     "name": "stdout",
     "output_type": "stream",
     "text": [
      "LogisticRegression: 0.43\n",
      "SGDClassifier: 0.43\n",
      "SGDClassifier: 0.55\n",
      "SGDClassifier: 0.4\n",
      "SGDClassifier: 0.45\n",
      "SGDClassifier: 0.45\n",
      "SGDClassifier: 0.42\n",
      "SGDClassifier: 0.55\n",
      "SGDClassifier: 0.42\n",
      "SGDClassifier: 0.4\n",
      "SGDClassifier: 0.45\n",
      "SGDClassifier: 0.58\n"
     ]
    }
   ],
   "source": [
    "# Create various linear classification models using L2 and L1 regularizers and various loss functions using SGDClassifier. Train the models built on the training set. Evaluate the quality of all classifiers received.\n",
    "from sklearn.linear_model import SGDClassifier\n",
    "\n",
    "\n",
    "def train_classifier(classifier, X_train, y_train):\n",
    "    classifier.fit(X_train, y_train)\n",
    "\n",
    "\n",
    "def predict_labels(classifier, features, target):\n",
    "    y_pred = classifier.predict(features)\n",
    "    return accuracy_score(target, y_pred)\n",
    "\n",
    "\n",
    "def train_predict(classifier, X_train, y_train, X_test, y_test):\n",
    "    train_classifier(classifier, X_train, y_train)\n",
    "    print('{}: {}'.format(classifier.__class__.__name__, round(predict_labels(classifier, X_test, y_test), 2)))\n",
    "    return predict_labels(classifier, X_test, y_test)\n",
    "\n",
    "\n",
    "classifiers = [\n",
    "    LogisticRegression(penalty='l2', random_state=random_state),\n",
    "    SGDClassifier(loss='log', penalty='l2', random_state=random_state),\n",
    "    SGDClassifier(loss='hinge', penalty='l2', random_state=random_state),\n",
    "    SGDClassifier(loss='modified_huber', penalty='l2', random_state=random_state),\n",
    "    SGDClassifier(loss='perceptron', penalty='l2', random_state=random_state),\n",
    "    SGDClassifier(loss='squared_hinge', penalty='l2', random_state=random_state),\n",
    "    SGDClassifier(loss='squared_error', penalty='l2', random_state=random_state),\n",
    "    SGDClassifier(loss='hinge', penalty='l1', random_state=random_state),\n",
    "    SGDClassifier(loss='modified_huber', penalty='l1', random_state=random_state),\n",
    "    SGDClassifier(loss='perceptron', penalty='l1', random_state=random_state),\n",
    "    SGDClassifier(loss='squared_hinge', penalty='l1', random_state=random_state),\n",
    "    SGDClassifier(loss='squared_error', penalty='l1', random_state=random_state)\n",
    "]\n",
    "\n",
    "for classifier in classifiers:\n",
    "    train_predict(classifier, X_train, y_train, X_test, y_test)"
   ]
  }
 ],
 "metadata": {
  "kernelspec": {
   "display_name": "Python 3",
   "language": "python",
   "name": "python3"
  },
  "language_info": {
   "codemirror_mode": {
    "name": "ipython",
    "version": 3
   },
   "file_extension": ".py",
   "mimetype": "text/x-python",
   "name": "python",
   "nbconvert_exporter": "python",
   "pygments_lexer": "ipython3",
   "version": "3.8.13"
  },
  "toc": {
   "base_numbering": 1,
   "nav_menu": {},
   "number_sections": true,
   "sideBar": true,
   "skip_h1_title": false,
   "title_cell": "Table of Contents",
   "title_sidebar": "Contents",
   "toc_cell": false,
   "toc_position": {},
   "toc_section_display": true,
   "toc_window_display": false
  }
 },
 "nbformat": 4,
 "nbformat_minor": 1
}