{
 "metadata": {
  "anaconda-cloud": {},
  "kernelspec": {
   "display_name": "Python 3",
   "language": "python",
   "name": "python3"
  },
  "language_info": {
   "name": "python",
   "version": "3.7.8",
   "mimetype": "text/x-python",
   "codemirror_mode": {
    "name": "ipython",
    "version": 3
   },
   "pygments_lexer": "ipython3",
   "nbconvert_exporter": "python",
   "file_extension": ".py"
  }
 },
 "nbformat_minor": 4,
 "nbformat": 4,
 "cells": [
  {
   "cell_type": "markdown",
   "source": [
    "# Метрики качества бинарной классификации\n",
    "\n",
    "## Теоретическая часть\n",
    "\n",
    "__Вспомнить из лекций:__\n",
    "* Как вычисляются следующие метрики качества: **точность, полнота, F-мера, LogLoss, AUC-ROC, AUC-RPC**?"
   ],
   "metadata": {
    "pycharm": {
     "name": "#%% md\n"
    }
   }
  },
  {
   "cell_type": "code",
   "execution_count": 345,
   "outputs": [],
   "source": [
    "# Accuracy\n",
    "from matplotlib import pyplot as plt\n",
    "from sklearn.datasets import make_regression\n",
    "from sklearn.model_selection import train_test_split\n",
    "\n",
    "\n",
    "def accuracy(y_true, y_pred):\n",
    "    \"\"\"\n",
    "    Calculate accuracy classification score.\n",
    "    \"\"\"\n",
    "    return np.mean(y_true == y_pred)\n",
    "\n",
    "\n",
    "# Precision\n",
    "def precision(y_true, y_pred):\n",
    "    \"\"\"\n",
    "    Calculate precision classification score.\n",
    "    \"\"\"\n",
    "    true_positives = np.sum(y_true * y_pred)\n",
    "    predicted_positives = np.sum(y_pred)\n",
    "    return true_positives / predicted_positives\n",
    "\n",
    "\n",
    "# Recall\n",
    "def recall(y_true, y_pred):\n",
    "    \"\"\"\n",
    "    Calculate recall classification score.\n",
    "    \"\"\"\n",
    "    true_positives = np.sum(y_true * y_pred)\n",
    "    possible_positives = np.sum(y_true)\n",
    "    return true_positives / possible_positives\n",
    "\n",
    "\n",
    "# F-score\n",
    "\n",
    "def f_score(y_true, y_pred):\n",
    "    \"\"\"\n",
    "    Calculate F-score classification score.\n",
    "    \"\"\"\n",
    "    precision_ = precision(y_true, y_pred)\n",
    "    recall_ = recall(y_true, y_pred)\n",
    "    if precision_ + recall_ == 0:\n",
    "        return 0\n",
    "    return 2 * (precision_ * recall_) / (precision_ + recall_)\n",
    "\n",
    "\n",
    "# log loss\n",
    "def log_loss(y_true, y_pred):\n",
    "    \"\"\"\n",
    "    Calculate log loss classification score.\n",
    "    \"\"\"\n",
    "    y_pred = np.clip(y_pred, 1e-15, 1 - 1e-15)\n",
    "    return -np.mean(y_true * np.log(y_pred) + (1 - y_true) * np.log(1 - y_pred))\n",
    "\n",
    "\n",
    "# AUC-RPC\n",
    "def rpc_auc_score(y_true, y_pred):\n",
    "    \"\"\"\n",
    "    Calculate rpc_auc_score classification score.\n",
    "    \"\"\"\n",
    "    y_pred = np.clip(y_pred, 1e-15, 1 - 1e-15)\n",
    "    return -np.mean(y_true * np.log(y_pred) + (1 - y_true) * np.log(1 - y_pred))"
   ],
   "metadata": {
    "collapsed": false,
    "pycharm": {
     "name": "#%%\n"
    }
   }
  },
  {
   "cell_type": "markdown",
   "source": [
    "Большинство алгоритмов бинарной классификации работают следующим образом: они предсказывают для объекта  $x$ вещественное число $b(x)$, а затем сравнивают его с порогом $T$: \n",
    "- если $b(x) < T$, то предсказывается класс -1, \n",
    "- иначе предсказывается класс +1. \n",
    "\n",
    "Это можно записать в терминах функции **sign** (знак):\n",
    "$$a(x) = sign(b(x)-T)$$\n",
    "\n",
    "Метрики качества бинарной классификации можно разделить на две группы: \n",
    "\n",
    "оценивают \n",
    "- бинарные предсказания $a(x)$ (класс -1 и +1), \n",
    "- вещественные предсказания $b(x)$. \n",
    "\n",
    "Некоторые метрики последней группы варьируют порог, и оценивают качество бинарных предсказаний при различных порогах. Это полезно, чтобы \"отделить\" качество работы алгоритма от качества выбора конкретного порога. \n",
    "\n",
    "### Вопрос: \n",
    "какие из рассмотренных в лекциях метрик относятся к каждой группе?\n"
   ],
   "metadata": {
    "pycharm": {
     "name": "#%% md\n"
    }
   }
  },
  {
   "cell_type": "markdown",
   "source": [
    "### Ответ:"
   ],
   "metadata": {
    "pycharm": {
     "name": "#%% md\n"
    }
   }
  },
  {
   "cell_type": "markdown",
   "source": [
    "### Задача 1\n",
    "Вычислить (вручную) **accuracy, точность, полноту** и  **F-меру** для следующих векторов предсказаний и правильных ответов:\n",
    "\n",
    "|                               |    |    |    |    |    |    |    |\n",
    "|-------------------------------|----|----|----|----|----|----|----|\n",
    "| Правильный ответ (из данных) | +1 | -1 | +1 | +1 | -1 | +1 | -1 |\n",
    "| Предсказание                  | -1 | +1 | +1 | +1 | -1 | -1 | -1 |\n",
    "\n"
   ],
   "metadata": {
    "pycharm": {
     "name": "#%% md\n"
    }
   }
  },
  {
   "cell_type": "markdown",
   "source": [
    "### Решение:"
   ],
   "metadata": {
    "pycharm": {
     "name": "#%% md\n"
    }
   }
  },
  {
   "cell_type": "markdown",
   "source": [
    "### Задача 2\n",
    "Рассмотрим алгоритм вида $$a(x) = sign(b(x)-T).$$ Пусть для любого объекта $x$ выполнено $-10 < b(x) < 10$. Какова будет точность и полнота алгоритма, если положить $T=-15$? $T=15$? \n"
   ],
   "metadata": {
    "pycharm": {
     "name": "#%% md\n"
    }
   }
  },
  {
   "cell_type": "markdown",
   "source": [
    "### Решение:"
   ],
   "metadata": {
    "pycharm": {
     "name": "#%% md\n"
    }
   }
  },
  {
   "cell_type": "code",
   "execution_count": 347,
   "outputs": [],
   "source": [
    "def accuracy(y_true, y_pred):\n",
    "    \"\"\"\n",
    "    Возвращает количество правильных предсказаний из общего количества объектов.\n",
    "    \"\"\"\n",
    "    return np.sum(y_true == y_pred) / len(y_true)\n",
    "\n",
    "\n",
    "def precision(y_true, y_pred):\n",
    "    \"\"\"\n",
    "    Возвращает количество правильных предсказаний из количества предсказаний.\n",
    "    \"\"\"\n",
    "    return np.sum(y_true == y_pred) / np.sum(y_pred == 1)"
   ],
   "metadata": {
    "collapsed": false,
    "pycharm": {
     "name": "#%%\n"
    }
   }
  },
  {
   "cell_type": "markdown",
   "source": [
    "### Задача 3\n",
    "\n",
    "Найти (вручную) точки, необходимые для пострения ROC-кривой для следующих векторов предсказаний и правильных ответов:\n",
    "\n",
    "|                              |    |    |    |    |    |    |    |\n",
    "|------------------------------|----|----|----|----|----|----|----|\n",
    "| Правильный ответ (из данных) | -1 | +1 | +1 | -1 | +1 | -1 | -1 |\n",
    "| Предсказание $b(x)$       | 1  | 15 | -1 | 7  | 3  | -8 | -5 |\n",
    "\n",
    "__Указание:__\n",
    "\n",
    "Следует сначала отсортировать объекты по возрастанию вещественных предсказаний $b(x)$. "
   ],
   "metadata": {
    "pycharm": {
     "name": "#%% md\n"
    }
   }
  },
  {
   "cell_type": "markdown",
   "source": [
    "### Решение:"
   ],
   "metadata": {
    "pycharm": {
     "name": "#%% md\n"
    }
   }
  },
  {
   "cell_type": "code",
   "execution_count": 348,
   "outputs": [
    {
     "name": "stdout",
     "output_type": "stream",
     "text": [
      "[1 2 2 3 3 3 4]\n",
      "[0 0 1 1 2 3 3]\n"
     ]
    }
   ],
   "source": [
    "y_true = np.array([-1, 1, 1, -1, 1, -1, -1])\n",
    "y_pred = np.array([1, 15, -1, 7, 3, -8, -5])\n",
    "y_pred = y_pred[np.argsort(y_pred)]\n",
    "\n",
    "\n",
    "# Create a function for the ROC curve\n",
    "\n",
    "\n",
    "def roc_curve(y_true, y_pred):\n",
    "    \"\"\"\n",
    "    Возвращает два вектора:\n",
    "    - первый вектор содержит вероятности правильного предсказания для каждого объекта в порядке убывания вещественных предсказаний $b(x)$;\n",
    "    - второй вектор содержит вероятности правильного предсказания для каждого объекта в порядке убывания вещественных предсказаний $b(x)$;\n",
    "    \"\"\"\n",
    "    y_pred = y_pred[np.argsort(y_pred)]\n",
    "    y_true = y_true[np.argsort(y_pred)]\n",
    "    y_true = y_true[::-1]\n",
    "    y_pred = y_pred[::-1]\n",
    "    tpr = []\n",
    "    fpr = []\n",
    "    for i in range(len(y_pred)):\n",
    "        tpr.append(np.sum(y_true[:i + 1] == 1))\n",
    "        fpr.append(np.sum(y_true[:i + 1] == -1))\n",
    "    return np.array(fpr), np.array(tpr)\n",
    "\n",
    "\n",
    "fpr, tpr = roc_curve(y_true, y_pred)\n",
    "\n",
    "print(fpr)\n",
    "print(tpr)"
   ],
   "metadata": {
    "collapsed": false,
    "pycharm": {
     "name": "#%%\n"
    }
   }
  },
  {
   "cell_type": "markdown",
   "source": [
    "### Задача 4\n",
    "\n",
    "Какое значение AUC-ROC будет у алгоритма $b(x)$, который на каждом объекте возвращает случайное вещественное число из отрезка [-2, 2] (равномерное распределение)? \n",
    "\n",
    "У алгоритма, который для всех объектов класса -1 возвращает отрицательное число, а для всех объектов класса +1 - положительное число?\n"
   ],
   "metadata": {
    "pycharm": {
     "name": "#%% md\n"
    }
   }
  },
  {
   "cell_type": "markdown",
   "source": [
    "### Решение:"
   ],
   "metadata": {
    "pycharm": {
     "name": "#%% md\n"
    }
   }
  },
  {
   "cell_type": "code",
   "execution_count": 349,
   "outputs": [],
   "source": [
    "# What is the AUC-ROC value of the algorithm , which on each object returns a random real number from the interval [-2, 2] (uniform distribution)?\n",
    "\n",
    "\n",
    "def roc_curve_random(y_true, y_pred):\n",
    "    \"\"\"\n",
    "    Возвращает два вектора:\n",
    "    - первый вектор содержит вероятности правильного предсказания для каждого объекта в порядке убывания вещественных предсказаний $b(x)$;\n",
    "    - второй вектор содержит вероятности правильного предсказания для каждого объекта в порядке убывания вещественных предсказаний $b(x)$;\n",
    "    \"\"\"\n",
    "    y_pred = y_pred[np.argsort(y_pred)]\n",
    "    y_true = y_true[np.argsort(y_pred)]\n",
    "    y_true = y_true[::-1]\n",
    "    y_pred = y_pred[::-1]\n",
    "    tpr = []\n",
    "    fpr = []\n",
    "    for i in range(len(y_pred)):\n",
    "        tpr.append(np.sum(y_true[:i + 1] == 1) / np.sum(y_true == 1))\n",
    "        fpr.append(np.sum(y_true[:i + 1] == -1) / np.sum(y_true == -1))\n",
    "    return np.array(fpr), np.array(tpr)"
   ],
   "metadata": {
    "collapsed": false,
    "pycharm": {
     "name": "#%%\n"
    }
   }
  },
  {
   "cell_type": "markdown",
   "source": [
    "### Задача 5\n",
    "\n",
    "Пусть для алгоритма $b(x)$ значение AUC-ROC равно 0.2. Каким будет AUC-ROC алгоритма $-b(x)$?\n"
   ],
   "metadata": {
    "pycharm": {
     "name": "#%% md\n"
    }
   }
  },
  {
   "cell_type": "markdown",
   "source": [
    "### Решение:"
   ],
   "metadata": {
    "pycharm": {
     "name": "#%% md\n"
    }
   }
  },
  {
   "cell_type": "markdown",
   "source": [
    "## Практическая часть"
   ],
   "metadata": {
    "pycharm": {
     "name": "#%% md\n"
    }
   }
  },
  {
   "cell_type": "markdown",
   "source": [
    "Функции для вычисления метрик в **sklearn** "
   ],
   "metadata": {
    "pycharm": {
     "name": "#%% md\n"
    }
   }
  },
  {
   "cell_type": "code",
   "source": [
    "from sklearn.metrics import accuracy_score, precision_score, recall_score, f1_score, roc_auc_score"
   ],
   "metadata": {
    "trusted": true,
    "pycharm": {
     "name": "#%%\n"
    }
   },
   "execution_count": 350,
   "outputs": []
  },
  {
   "cell_type": "markdown",
   "source": [
    "Сгенерируем два бинарных вектора длины 100 (число объектов):"
   ],
   "metadata": {
    "pycharm": {
     "name": "#%% md\n"
    }
   }
  },
  {
   "cell_type": "code",
   "source": [
    "import numpy as np"
   ],
   "metadata": {
    "trusted": true,
    "pycharm": {
     "name": "#%%\n"
    }
   },
   "execution_count": 351,
   "outputs": []
  },
  {
   "cell_type": "code",
   "source": [
    "n = 100\n",
    "y_true = np.random.randint(2, size=n)\n",
    "y_pred = np.random.randint(2, size=n)"
   ],
   "metadata": {
    "trusted": true,
    "pycharm": {
     "name": "#%%\n"
    }
   },
   "execution_count": 352,
   "outputs": []
  },
  {
   "cell_type": "markdown",
   "source": [
    "Вычислим метрики качества бинарных предсказаний для случайных ответов (соответствует алгоритму, не выделяющему никаких закономерностей в данных):"
   ],
   "metadata": {
    "pycharm": {
     "name": "#%% md\n"
    }
   }
  },
  {
   "cell_type": "code",
   "source": [
    "precision_score(y_true, y_pred), recall_score(y_true, y_pred), f1_score(y_true, y_pred)"
   ],
   "metadata": {
    "trusted": true,
    "pycharm": {
     "name": "#%%\n"
    }
   },
   "execution_count": 353,
   "outputs": [
    {
     "data": {
      "text/plain": "(0.5882352941176471, 0.5172413793103449, 0.5504587155963303)"
     },
     "execution_count": 353,
     "metadata": {},
     "output_type": "execute_result"
    }
   ]
  },
  {
   "cell_type": "code",
   "source": [
    "accuracy_score(y_true, y_pred)"
   ],
   "metadata": {
    "trusted": true,
    "pycharm": {
     "name": "#%%\n"
    }
   },
   "execution_count": 354,
   "outputs": [
    {
     "data": {
      "text/plain": "0.51"
     },
     "execution_count": 354,
     "metadata": {},
     "output_type": "execute_result"
    }
   ]
  },
  {
   "cell_type": "markdown",
   "source": [
    "Все метрики около 0.5 (примерная доля объектов положительного класса в выборке).\n",
    "\n",
    "Вычислим метрики для случая, когда все ответы правильные:"
   ],
   "metadata": {
    "pycharm": {
     "name": "#%% md\n"
    }
   }
  },
  {
   "cell_type": "code",
   "source": [
    "precision_score(y_true, y_true), recall_score(y_true, y_true), f1_score(y_true, y_true)"
   ],
   "metadata": {
    "trusted": true,
    "pycharm": {
     "name": "#%%\n"
    }
   },
   "execution_count": 355,
   "outputs": [
    {
     "data": {
      "text/plain": "(1.0, 1.0, 1.0)"
     },
     "execution_count": 355,
     "metadata": {},
     "output_type": "execute_result"
    }
   ]
  },
  {
   "cell_type": "code",
   "source": [
    "accuracy_score(y_true, y_true)"
   ],
   "metadata": {
    "trusted": true,
    "pycharm": {
     "name": "#%%\n"
    }
   },
   "execution_count": 356,
   "outputs": [
    {
     "data": {
      "text/plain": "1.0"
     },
     "execution_count": 356,
     "metadata": {},
     "output_type": "execute_result"
    }
   ]
  },
  {
   "cell_type": "markdown",
   "source": [
    "Как и ожидается, все метрики равны 1."
   ],
   "metadata": {
    "pycharm": {
     "name": "#%% md\n"
    }
   }
  },
  {
   "cell_type": "markdown",
   "source": [
    "Сгенерируем вектор случайных вещественных предсказаний:"
   ],
   "metadata": {
    "pycharm": {
     "name": "#%% md\n"
    }
   }
  },
  {
   "cell_type": "code",
   "source": [
    "b_pred = np.random.rand(n)"
   ],
   "metadata": {
    "trusted": true,
    "pycharm": {
     "name": "#%%\n"
    }
   },
   "execution_count": 357,
   "outputs": []
  },
  {
   "cell_type": "markdown",
   "source": [
    "Вычислим roc_auc:"
   ],
   "metadata": {
    "pycharm": {
     "name": "#%% md\n"
    }
   }
  },
  {
   "cell_type": "code",
   "source": [
    "roc_auc_score(y_true, b_pred)"
   ],
   "metadata": {
    "trusted": true,
    "pycharm": {
     "name": "#%%\n"
    }
   },
   "execution_count": 358,
   "outputs": [
    {
     "data": {
      "text/plain": "0.5270935960591133"
     },
     "execution_count": 358,
     "metadata": {},
     "output_type": "execute_result"
    }
   ]
  },
  {
   "cell_type": "markdown",
   "source": [
    "Как и ожидается, значение ROC-AUC около 0.5."
   ],
   "metadata": {
    "pycharm": {
     "name": "#%% md\n"
    }
   }
  },
  {
   "cell_type": "markdown",
   "source": [
    "### Задание\n",
    "Реализовать построение ROC-кривой, используя данные задачи 3.\n",
    "\n",
    "Сопоставить с результатами, полученными при решении задачи 3."
   ],
   "metadata": {
    "pycharm": {
     "name": "#%% md\n"
    }
   }
  },
  {
   "cell_type": "code",
   "execution_count": 360,
   "outputs": [
    {
     "data": {
      "text/plain": "<Figure size 432x288 with 1 Axes>",
      "image/png": "[encoded data removed]"
     },
     "metadata": {},
     "output_type": "display_data"
    }
   ],
   "source": [
    "from sklearn.linear_model import Lasso\n",
    "\n",
    "X, y = make_regression(n_samples=100, n_features=4, n_informative=2, noise=5.0, random_state=0)\n",
    "X_train, X_test, y_train, y_test = train_test_split(X, y, test_size=0.3, random_state=0)\n",
    "\n",
    "# Calculete the ROC curve for a lasso model\n",
    "lasso = Lasso(alpha=0.1)\n",
    "lasso.fit(X_train, y_train)\n",
    "y_pred = lasso.predict(X_test)\n",
    "fpr, tpr = roc_curve(y_test, y_pred)\n",
    "\n",
    "# Plot the ROC curve\n",
    "plt.plot(fpr, tpr, label='ROC curve')\n",
    "plt.plot([0, 1], [0, 1], 'k--')\n",
    "plt.xlabel('False Positive Rate')\n",
    "plt.ylabel('True Positive Rate')\n",
    "plt.title('ROC curve')\n",
    "plt.legend(loc=\"lower right\")\n",
    "plt.show()"
   ],
   "metadata": {
    "collapsed": false,
    "pycharm": {
     "name": "#%%\n"
    }
   }
  }
 ]
}