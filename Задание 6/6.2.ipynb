{
 "cells": [
  {
   "cell_type": "code",
   "execution_count": 1,
   "metadata": {
    "pycharm": {
     "name": "#%%\n"
    }
   },
   "outputs": [],
   "source": [
    "import random\n",
    "from matplotlib import pyplot as plt\n",
    "from sklearn.datasets import make_classification\n",
    "\n",
    "random_state = random.randint(0, 500)\n",
    "X, y = make_classification(n_samples=200, n_features=2, n_informative=1, n_redundant=0, n_classes=2,\n",
    "                           n_clusters_per_class=1, random_state=random_state, flip_y=5.5)"
   ]
  },
  {
   "cell_type": "code",
   "execution_count": 2,
   "metadata": {
    "pycharm": {
     "name": "#%%\n"
    }
   },
   "outputs": [
    {
     "data": {
      "text/plain": [
       "array([[ 1.49332959,  1.42723097],\n",
       "       [-0.5448109 , -1.02151746],\n",
       "       [-0.35225083,  0.25709414],\n",
       "       [-1.67452442, -0.40857984],\n",
       "       [-1.21810599, -0.77491478],\n",
       "       [-0.64113112,  0.1082211 ],\n",
       "       [-2.17998198,  2.04214942],\n",
       "       [-1.04158373, -0.91521011],\n",
       "       [ 1.36577794, -0.50162361],\n",
       "       [ 0.33823115,  0.46491809],\n",
       "       [-1.24327476,  0.44752609],\n",
       "       [ 0.45311684,  0.58838763],\n",
       "       [-1.45802269,  1.22942369],\n",
       "       [-1.7227273 ,  0.3265269 ],\n",
       "       [ 1.28926379,  0.07669887],\n",
       "       [ 2.3445915 , -2.63034178],\n",
       "       [ 0.10586251,  0.56922555],\n",
       "       [ 0.26811786, -2.0557334 ],\n",
       "       [ 1.3826682 , -0.61280265],\n",
       "       [ 1.600096  ,  1.32349691],\n",
       "       [ 1.16615891, -0.45163084],\n",
       "       [-1.34656304, -0.32748757],\n",
       "       [-1.02393215,  0.66114128],\n",
       "       [ 0.16099902,  1.26059748],\n",
       "       [-2.66047221,  2.35631084],\n",
       "       [-2.24788443,  0.20001706],\n",
       "       [-1.22988492, -2.08977826],\n",
       "       [-1.40259608,  0.26822324],\n",
       "       [ 0.41277742, -0.23187756],\n",
       "       [-1.22520752, -0.5470138 ],\n",
       "       [ 0.90975648, -2.2188647 ],\n",
       "       [-2.0620079 ,  0.68040291],\n",
       "       [-1.0834543 , -2.00919816],\n",
       "       [-0.14860075, -0.06829935],\n",
       "       [-1.35788811,  0.45760153],\n",
       "       [ 0.46283412, -1.44982177],\n",
       "       [-1.41807055, -1.92010942],\n",
       "       [ 0.98171161,  1.03749634],\n",
       "       [-0.55371809,  0.82641684],\n",
       "       [-1.44539403,  0.10526501],\n",
       "       [ 2.24826069, -0.1754381 ],\n",
       "       [ 1.73428705, -0.479664  ],\n",
       "       [-1.69345114, -0.12018829],\n",
       "       [ 0.86031444, -0.46422273],\n",
       "       [ 1.79862341, -0.43683863],\n",
       "       [-1.45402032, -0.51003437],\n",
       "       [-1.30250661,  0.58983245],\n",
       "       [ 1.51041741,  1.45888105],\n",
       "       [ 1.44163947,  0.52848761],\n",
       "       [ 0.92909958,  0.50227093],\n",
       "       [ 1.34710455,  1.23725653],\n",
       "       [ 1.5081764 ,  0.05776566],\n",
       "       [-0.43725853, -0.23577997],\n",
       "       [ 1.68533601,  0.13876451],\n",
       "       [-0.35566042,  1.03901483],\n",
       "       [-0.34924638, -0.29396704],\n",
       "       [-0.41113474, -0.7784272 ],\n",
       "       [ 1.73660442,  0.03365034],\n",
       "       [ 1.35829341,  0.65610183],\n",
       "       [ 0.53083996, -0.15246477],\n",
       "       [ 1.16994681, -0.34965419],\n",
       "       [-0.10100687, -1.42853419],\n",
       "       [ 1.04281729,  0.55357934],\n",
       "       [ 1.47680453, -0.73587566],\n",
       "       [ 0.2151453 , -0.53269687],\n",
       "       [-0.25593197,  0.66647277],\n",
       "       [-0.75265084,  0.09835491],\n",
       "       [-1.44515902,  0.94281849],\n",
       "       [-0.01126588,  1.21361695],\n",
       "       [ 0.99641467,  1.11924799],\n",
       "       [ 0.3208467 ,  0.86750296],\n",
       "       [ 0.79584892,  0.29437911],\n",
       "       [ 0.05238183, -0.16716385],\n",
       "       [ 1.10301564, -0.5085655 ],\n",
       "       [-1.38105271,  1.04375054],\n",
       "       [ 1.52667974,  0.02989528],\n",
       "       [ 1.60017548, -1.56554293],\n",
       "       [-1.14762295, -0.25567446],\n",
       "       [-0.72447344, -1.33686803],\n",
       "       [-1.68765745, -0.10067159],\n",
       "       [-0.90528297,  0.37175679],\n",
       "       [ 1.23624188, -0.16043217],\n",
       "       [-1.29593892,  1.52236441],\n",
       "       [ 0.810197  ,  0.01632702],\n",
       "       [-1.15888796,  1.02983788],\n",
       "       [-0.31799948,  1.5308357 ],\n",
       "       [-0.29662399, -0.23852692],\n",
       "       [-1.01431431, -1.62475466],\n",
       "       [ 1.69122687, -0.77409944],\n",
       "       [ 0.74630088,  0.91454384],\n",
       "       [ 1.00266255, -0.48148432],\n",
       "       [ 0.05013288, -1.23964397],\n",
       "       [-0.76854019,  1.17625303],\n",
       "       [ 0.62537043, -1.89646803],\n",
       "       [-0.92819472,  0.54101799],\n",
       "       [ 0.13406131, -0.96197239],\n",
       "       [-1.57889337, -0.47472126],\n",
       "       [ 0.73804583, -0.60232254],\n",
       "       [ 2.09533127,  1.90555227],\n",
       "       [-1.21470878,  2.43094576],\n",
       "       [-0.75716116,  0.11150643],\n",
       "       [-0.54019468,  0.4037823 ],\n",
       "       [ 0.96196415,  1.17630755],\n",
       "       [ 0.7740654 ,  0.54760586],\n",
       "       [-0.49330566,  0.23745389],\n",
       "       [-1.59235517,  0.54336564],\n",
       "       [-0.73512691, -0.92694794],\n",
       "       [ 1.12025549, -0.28710854],\n",
       "       [-1.34417184,  0.50570411],\n",
       "       [-1.30682656, -1.18341639],\n",
       "       [ 1.04349941,  0.58973087],\n",
       "       [ 1.36349637,  1.1768392 ],\n",
       "       [ 1.16225852, -0.29082593],\n",
       "       [-1.48516157, -1.56819946],\n",
       "       [ 1.17109966, -0.75924589],\n",
       "       [ 0.96396555, -0.37705154],\n",
       "       [ 0.56784715,  1.10579936],\n",
       "       [-0.80382406, -0.86730851],\n",
       "       [ 1.14956422,  0.98740387],\n",
       "       [ 1.16919975,  2.10097448],\n",
       "       [-0.62017919,  1.4531652 ],\n",
       "       [-1.84438975,  1.27404071],\n",
       "       [-0.56776466,  0.43079165],\n",
       "       [-0.94524616, -1.22987713],\n",
       "       [-1.89183548,  0.14752896],\n",
       "       [ 1.24916623,  0.19667167],\n",
       "       [ 1.90323537, -0.92264334],\n",
       "       [-1.14180639,  1.10480831],\n",
       "       [-1.01297268,  0.11811595],\n",
       "       [ 0.98088477,  1.02134505],\n",
       "       [ 1.11808701,  0.47775542],\n",
       "       [ 0.57066235,  0.34490593],\n",
       "       [ 0.98639031, -0.67784084],\n",
       "       [ 1.84783486, -0.62269261],\n",
       "       [-0.55886245, -0.6810138 ],\n",
       "       [ 1.786037  ,  0.62481863],\n",
       "       [ 0.66227539,  1.05125699],\n",
       "       [ 0.80372696,  0.19854453],\n",
       "       [ 1.58242534,  0.85470775],\n",
       "       [ 1.11117837,  0.75602084],\n",
       "       [ 0.77479496, -1.98061393],\n",
       "       [-0.43202438, -0.31784383],\n",
       "       [ 1.28005215, -0.73214248],\n",
       "       [-0.08961661, -1.38395547],\n",
       "       [-0.36409885, -1.30851852],\n",
       "       [-0.73026494, -0.28491577],\n",
       "       [ 1.6541089 , -1.00849585],\n",
       "       [-0.39234587,  0.2482487 ],\n",
       "       [ 0.97167751,  0.49328392],\n",
       "       [-0.87271397,  0.12526626],\n",
       "       [-1.1387039 ,  0.35377089],\n",
       "       [-0.79081203, -0.59305863],\n",
       "       [-0.49974776,  0.64487427],\n",
       "       [-1.00835491,  1.89973304],\n",
       "       [-0.71925566,  0.71717121],\n",
       "       [ 1.16443156, -0.44495762],\n",
       "       [ 0.98875086, -1.34679359],\n",
       "       [ 1.02719254, -0.40480984],\n",
       "       [-1.12901127,  1.24373998],\n",
       "       [ 0.3690083 ,  0.96321356],\n",
       "       [ 1.692036  , -0.54916147],\n",
       "       [-1.11988739,  0.31609626],\n",
       "       [-0.32800684, -1.18665188],\n",
       "       [ 1.59994087, -1.76624323],\n",
       "       [ 0.87175215, -0.58407169],\n",
       "       [-0.0389061 ,  0.66416115],\n",
       "       [-1.71610354, -0.65501747],\n",
       "       [-2.1968296 ,  1.17851256],\n",
       "       [ 0.9224374 ,  0.46343022],\n",
       "       [ 1.18380492, -0.61225083],\n",
       "       [-0.96286473,  1.34209008],\n",
       "       [-1.5364335 ,  0.1651661 ],\n",
       "       [ 0.74676794, -0.10622609],\n",
       "       [ 0.58079425,  1.25621698],\n",
       "       [-0.9839557 , -0.07483937],\n",
       "       [ 1.12891801,  0.87532931],\n",
       "       [-2.02723314,  0.76927333],\n",
       "       [ 0.02050561,  1.12963516],\n",
       "       [-1.06459348,  0.4676963 ],\n",
       "       [ 0.44955259,  0.60094212],\n",
       "       [ 1.70577936, -2.17311356],\n",
       "       [-1.07239233,  1.97077991],\n",
       "       [-0.51537809,  0.05749722],\n",
       "       [-0.75649394, -0.0862512 ],\n",
       "       [ 0.90342899, -0.96109044],\n",
       "       [ 1.3852772 ,  0.33008962],\n",
       "       [ 0.61948438,  0.09942186],\n",
       "       [ 1.68676814,  0.26207018],\n",
       "       [-1.50380851,  0.121516  ],\n",
       "       [-1.16271502,  1.30447083],\n",
       "       [ 0.72652715,  0.49931958],\n",
       "       [ 1.54732827,  0.58308451],\n",
       "       [-1.35084103, -0.04332188],\n",
       "       [ 1.02836513, -1.37745462],\n",
       "       [ 0.8406971 , -0.14641074],\n",
       "       [-1.26133469,  0.90529492],\n",
       "       [-1.65406225, -0.11434037],\n",
       "       [ 0.12720734, -0.07145313],\n",
       "       [ 0.05606774,  0.26749122],\n",
       "       [-1.05175104,  0.59074366]])"
      ]
     },
     "execution_count": 2,
     "metadata": {},
     "output_type": "execute_result"
    }
   ],
   "source": [
    "X"
   ]
  },
  {
   "cell_type": "code",
   "execution_count": 3,
   "metadata": {
    "pycharm": {
     "name": "#%%\n"
    }
   },
   "outputs": [
    {
     "data": {
      "text/plain": [
       "array([1, 0, 0, 1, 1, 0, 1, 1, 0, 0, 0, 0, 1, 1, 0, 0, 1, 1, 1, 0, 1, 0,\n",
       "       1, 1, 0, 1, 1, 1, 1, 1, 1, 0, 0, 0, 0, 1, 1, 0, 1, 0, 0, 1, 0, 1,\n",
       "       0, 1, 1, 1, 1, 1, 0, 1, 0, 0, 1, 1, 1, 0, 0, 0, 1, 0, 1, 1, 1, 1,\n",
       "       1, 1, 0, 0, 1, 0, 0, 1, 1, 0, 0, 0, 1, 1, 0, 1, 0, 1, 1, 1, 0, 1,\n",
       "       1, 1, 0, 0, 1, 0, 1, 0, 1, 0, 0, 1, 1, 1, 0, 0, 1, 0, 1, 0, 0, 1,\n",
       "       0, 0, 1, 1, 0, 1, 0, 1, 0, 0, 1, 1, 1, 1, 0, 0, 1, 0, 0, 1, 0, 0,\n",
       "       1, 1, 0, 0, 0, 1, 0, 1, 0, 0, 1, 0, 0, 0, 0, 0, 1, 1, 0, 0, 0, 1,\n",
       "       0, 0, 1, 0, 0, 0, 1, 0, 1, 0, 0, 0, 0, 0, 1, 0, 0, 0, 0, 1, 1, 0,\n",
       "       1, 1, 0, 0, 0, 1, 1, 0, 0, 1, 0, 0, 0, 0, 0, 0, 0, 1, 1, 0, 1, 1,\n",
       "       1, 0])"
      ]
     },
     "execution_count": 3,
     "metadata": {},
     "output_type": "execute_result"
    }
   ],
   "source": [
    "y"
   ]
  },
  {
   "cell_type": "code",
   "execution_count": 4,
   "metadata": {
    "pycharm": {
     "name": "#%%\n"
    }
   },
   "outputs": [
    {
     "data": {
      "text/plain": [
       "<matplotlib.collections.PathCollection at 0x20633003490>"
      ]
     },
     "execution_count": 4,
     "metadata": {},
     "output_type": "execute_result"
    },
    {
     "data": {
      "image/png": "[encoded data removed]",
      "text/plain": [
       "<Figure size 432x288 with 1 Axes>"
      ]
     },
     "metadata": {
      "needs_background": "light"
     },
     "output_type": "display_data"
    }
   ],
   "source": [
    "from matplotlib.colors import ListedColormap\n",
    "\n",
    "colors = ListedColormap(['red', 'blue'])\n",
    "plt.scatter(X[:, 0], X[:, 1], c=y, cmap=colors)"
   ]
  },
  {
   "cell_type": "code",
   "execution_count": 5,
   "metadata": {
    "pycharm": {
     "name": "#%%\n"
    }
   },
   "outputs": [],
   "source": [
    "# Divide the dataset into training and test samples in the ratio 70/30.\n",
    "from sklearn.model_selection import train_test_split\n",
    "\n",
    "X_train, X_test, y_train, y_test = train_test_split(X, y, test_size=0.3, random_state=random_state)"
   ]
  },
  {
   "cell_type": "code",
   "execution_count": 6,
   "metadata": {
    "pycharm": {
     "name": "#%%\n"
    }
   },
   "outputs": [
    {
     "data": {
      "text/plain": [
       "LogisticRegression(random_state=431)"
      ]
     },
     "execution_count": 6,
     "metadata": {},
     "output_type": "execute_result"
    }
   ],
   "source": [
    "# Create a linear classification model using the L2 regularizer and train it on the training set.\n",
    "from sklearn.linear_model import LogisticRegression\n",
    "\n",
    "classifier = LogisticRegression(penalty='l2', random_state=random_state)\n",
    "classifier.fit(X_train, y_train)"
   ]
  },
  {
   "cell_type": "code",
   "execution_count": 7,
   "metadata": {
    "pycharm": {
     "name": "#%%\n"
    }
   },
   "outputs": [
    {
     "data": {
      "text/plain": [
       "array([[24,  6],\n",
       "       [19, 11]], dtype=int64)"
      ]
     },
     "execution_count": 7,
     "metadata": {},
     "output_type": "execute_result"
    }
   ],
   "source": [
    "# Get the predictions of the trained model for the test set objects. Generate a matrix of responses in the test sample and a matrix of values predicted by the model. Assess classification quality using the accuracy metric.\n",
    "y_pred = classifier.predict(X_test)\n",
    "from sklearn.metrics import accuracy_score\n",
    "from sklearn.metrics import confusion_matrix\n",
    "\n",
    "confusion_matrix(y_test, y_pred)"
   ]
  },
  {
   "cell_type": "code",
   "execution_count": 8,
   "metadata": {
    "pycharm": {
     "name": "#%%\n"
    }
   },
   "outputs": [
    {
     "data": {
      "text/plain": [
       "0.5833333333333334"
      ]
     },
     "execution_count": 8,
     "metadata": {},
     "output_type": "execute_result"
    }
   ],
   "source": [
    "accuracy_score(y_test, y_pred)"
   ]
  },
  {
   "cell_type": "code",
   "execution_count": 9,
   "metadata": {
    "pycharm": {
     "name": "#%%\n"
    }
   },
   "outputs": [
    {
     "name": "stdout",
     "output_type": "stream",
     "text": [
      "LogisticRegression: 0.58\n",
      "SGDClassifier: 0.52\n",
      "SGDClassifier: 0.5\n",
      "SGDClassifier: 0.58\n",
      "SGDClassifier: 0.48\n",
      "SGDClassifier: 0.47\n",
      "SGDClassifier: 0.52\n",
      "SGDClassifier: 0.5\n",
      "SGDClassifier: 0.62\n",
      "SGDClassifier: 0.5\n",
      "SGDClassifier: 0.45\n",
      "SGDClassifier: 0.5\n"
     ]
    }
   ],
   "source": [
    "# Create various linear classification models using L2 and L1 regularizers and various loss functions using SGDClassifier. Train the models built on the training set. Evaluate the quality of all classifiers received.\n",
    "from sklearn.linear_model import SGDClassifier\n",
    "\n",
    "classifiers = [\n",
    "    LogisticRegression(penalty='l2', random_state=random_state),\n",
    "    SGDClassifier(loss='log', penalty='l2', random_state=random_state),\n",
    "    SGDClassifier(loss='hinge', penalty='l2', random_state=random_state),\n",
    "    SGDClassifier(loss='modified_huber', penalty='l2', random_state=random_state),\n",
    "    SGDClassifier(loss='perceptron', penalty='l2', random_state=random_state),\n",
    "    SGDClassifier(loss='squared_hinge', penalty='l2', random_state=random_state),\n",
    "    SGDClassifier(loss='squared_error', penalty='l2', random_state=random_state),\n",
    "    SGDClassifier(loss='hinge', penalty='l1', random_state=random_state),\n",
    "    SGDClassifier(loss='modified_huber', penalty='l1', random_state=random_state),\n",
    "    SGDClassifier(loss='perceptron', penalty='l1', random_state=random_state),\n",
    "    SGDClassifier(loss='squared_hinge', penalty='l1', random_state=random_state),\n",
    "    SGDClassifier(loss='squared_error', penalty='l1', random_state=random_state)\n",
    "]\n",
    "\n",
    "\n",
    "def train_classifier(classifier, X_train, y_train):\n",
    "    classifier.fit(X_train, y_train)\n",
    "\n",
    "\n",
    "def predict_labels(classifier, features, target):\n",
    "    y_pred = classifier.predict(features)\n",
    "    return accuracy_score(target, y_pred)\n",
    "\n",
    "\n",
    "def train_predict(classifier, X_train, y_train, X_test, y_test):\n",
    "    train_classifier(classifier, X_train, y_train)\n",
    "    print('{}: {}'.format(classifier.__class__.__name__, round(predict_labels(classifier, X_test, y_test), 2)))\n",
    "    return predict_labels(classifier, X_test, y_test)\n",
    "\n",
    "\n",
    "for classifier in classifiers:\n",
    "    train_predict(classifier, X_train, y_train, X_test, y_test)"
   ]
  },
  {
   "cell_type": "code",
   "execution_count": 10,
   "metadata": {
    "pycharm": {
     "name": "#%%\n"
    }
   },
   "outputs": [
    {
     "name": "stdout",
     "output_type": "stream",
     "text": [
      "LogisticRegression\n",
      "\n",
      "Scores: [0.57142857 0.28571429 0.5        0.5        0.42857143 0.42857143\n",
      " 0.5        0.5        0.21428571 0.5       ]\n",
      "Mean: 0.4428571428571429\n",
      "Standard deviation: 0.10497813183356478\n",
      "\n",
      "SGDClassifier\n",
      "\n",
      "Scores: [0.5        0.42857143 0.5        0.57142857 0.5        0.57142857\n",
      " 0.28571429 0.35714286 0.71428571 0.57142857]\n",
      "Mean: 0.5\n",
      "Standard deviation: 0.11517511068997928\n",
      "\n",
      "SGDClassifier\n",
      "\n",
      "Scores: [0.5        0.35714286 0.5        0.5        0.5        0.57142857\n",
      " 0.35714286 0.5        0.35714286 0.57142857]\n",
      "Mean: 0.47142857142857136\n",
      "Standard deviation: 0.07953949089757173\n",
      "\n",
      "SGDClassifier\n",
      "\n",
      "Scores: [0.5        0.64285714 0.5        0.5        0.5        0.42857143\n",
      " 0.28571429 0.57142857 0.21428571 0.5       ]\n",
      "Mean: 0.46428571428571425\n",
      "Standard deviation: 0.12058530725810096\n",
      "\n",
      "SGDClassifier\n",
      "\n",
      "Scores: [0.35714286 0.71428571 0.64285714 0.5        0.64285714 0.35714286\n",
      " 0.14285714 0.5        0.71428571 0.5       ]\n",
      "Mean: 0.5071428571428571\n",
      "Standard deviation: 0.17335230142159422\n",
      "\n",
      "SGDClassifier\n",
      "\n",
      "Scores: [0.35714286 0.21428571 0.64285714 0.5        0.5        0.42857143\n",
      " 0.35714286 0.35714286 0.35714286 0.28571429]\n",
      "Mean: 0.39999999999999997\n",
      "Standard deviation: 0.11605769149479946\n",
      "\n",
      "SGDClassifier\n",
      "\n",
      "Scores: [0.5        0.57142857 0.64285714 0.42857143 0.57142857 0.64285714\n",
      " 0.57142857 0.71428571 0.28571429 0.42857143]\n",
      "Mean: 0.5357142857142857\n",
      "Standard deviation: 0.12058530725810096\n",
      "\n",
      "SGDClassifier\n",
      "\n",
      "Scores: [0.42857143 0.5        0.64285714 0.5        0.57142857 0.57142857\n",
      " 0.42857143 0.57142857 0.71428571 0.57142857]\n",
      "Mean: 0.5499999999999999\n",
      "Standard deviation: 0.084816729193128\n",
      "\n",
      "SGDClassifier\n",
      "\n",
      "Scores: [0.5        0.42857143 0.64285714 0.5        0.42857143 0.57142857\n",
      " 0.28571429 0.5        0.42857143 0.57142857]\n",
      "Mean: 0.48571428571428565\n",
      "Standard deviation: 0.09476070829586858\n",
      "\n",
      "SGDClassifier\n",
      "\n",
      "Scores: [0.57142857 0.5        0.5        0.5        0.5        0.42857143\n",
      " 0.5        0.57142857 0.71428571 0.57142857]\n",
      "Mean: 0.5357142857142857\n",
      "Standard deviation: 0.07319250547113999\n",
      "\n",
      "SGDClassifier\n",
      "\n",
      "Scores: [0.5        0.21428571 0.35714286 0.5        0.64285714 0.5\n",
      " 0.42857143 0.5        0.28571429 0.5       ]\n",
      "Mean: 0.4428571428571429\n",
      "Standard deviation: 0.11866605518454394\n",
      "\n",
      "SGDClassifier\n",
      "\n",
      "Scores: [0.5        0.64285714 0.64285714 0.5        0.42857143 0.5\n",
      " 0.5        0.35714286 0.57142857 0.5       ]\n",
      "Mean: 0.5142857142857142\n",
      "Standard deviation: 0.0832993127835043\n",
      "\n"
     ]
    }
   ],
   "source": [
    "# via cross validation (use the precision metric, the number of blocks is 10). For each model, generate a series of quality scores, a final (mean) score, and a standard deviation.\n",
    "from sklearn.model_selection import cross_val_score\n",
    "\n",
    "\n",
    "def train_predict(classifier, X_train, y_train, X_test, y_test):\n",
    "    classifier.fit(X_train, y_train)\n",
    "    y_pred = classifier.predict(X_test)\n",
    "    return accuracy_score(y_test, y_pred)\n",
    "\n",
    "\n",
    "def train_predict_cv(classifier, X, y, cv=10):\n",
    "    scores = cross_val_score(classifier, X, y, cv=cv, scoring='accuracy')\n",
    "    return scores\n",
    "\n",
    "\n",
    "def print_scores(classifier, scores):\n",
    "    print(classifier)\n",
    "    print()\n",
    "    print('Scores:', scores)\n",
    "    print('Mean:', scores.mean())\n",
    "    print('Standard deviation:', scores.std())\n",
    "    print()\n",
    "\n",
    "\n",
    "for classifier in classifiers:\n",
    "    scores = train_predict_cv(classifier, X_train, y_train, cv=10)\n",
    "    print_scores(classifier.__class__.__name__, scores)"
   ]
  },
  {
   "cell_type": "code",
   "execution_count": 10,
   "metadata": {
    "pycharm": {
     "name": "#%%\n"
    }
   },
   "outputs": [],
   "source": []
  }
 ],
 "metadata": {
  "kernelspec": {
   "display_name": "Python 3",
   "language": "python",
   "name": "python3"
  },
  "language_info": {
   "codemirror_mode": {
    "name": "ipython",
    "version": 3
   },
   "file_extension": ".py",
   "mimetype": "text/x-python",
   "name": "python",
   "nbconvert_exporter": "python",
   "pygments_lexer": "ipython3",
   "version": "3.8.13"
  },
  "toc": {
   "base_numbering": 1,
   "nav_menu": {},
   "number_sections": true,
   "sideBar": true,
   "skip_h1_title": false,
   "title_cell": "Table of Contents",
   "title_sidebar": "Contents",
   "toc_cell": false,
   "toc_position": {},
   "toc_section_display": true,
   "toc_window_display": false
  }
 },
 "nbformat": 4,
 "nbformat_minor": 1
}