{
 "nbformat": 4,
 "nbformat_minor": 0,
 "metadata": {
  "colab": {
   "name": "11.1.ipynb",
   "provenance": [],
   "collapsed_sections": [],
   "authorship_tag": "ABX9TyMAW7f1v8icTkk7Y1u0BLVz"
  },
  "kernelspec": {
   "name": "python3",
   "display_name": "Python 3"
  },
  "language_info": {
   "name": "python"
  }
 },
 "cells": [
  {
   "cell_type": "code",
   "execution_count": null,
   "outputs": [],
   "source": [
    "import warnings\n",
    "import numpy as np\n",
    "import matplotlib.pyplot as plt\n",
    "warnings.filterwarnings('ignore')\n",
    "\n",
    "x1 = np.random.uniform(1, 3, 1000)\n",
    "x2 = np.random.uniform(1, 3, 1000)\n",
    "x3 = np.random.uniform(1, 3, 1000)\n",
    "x4 = np.random.uniform(1, 3, 1000)\n",
    "x5 = np.random.uniform(1, 3, 1000)\n",
    "y = (x1 + x2) / x3 + x4 * x5"
   ],
   "metadata": {
    "collapsed": false,
    "pycharm": {
     "name": "#%%\n"
    }
   }
  },
  {
   "cell_type": "code",
   "execution_count": null,
   "outputs": [],
   "source": [
    "import pandas as pd\n",
    "\n",
    "df = pd.DataFrame({'x1': x1, 'x2': x2, 'x3': x3, 'x4': x4, 'x5': x5, 'y': y})\n",
    "df.head()"
   ],
   "metadata": {
    "collapsed": false,
    "pycharm": {
     "name": "#%%\n"
    }
   }
  },
  {
   "cell_type": "code",
   "execution_count": null,
   "outputs": [],
   "source": [
    "# Split the data into training / test sets (training set - 70% of all available data).\n",
    "from sklearn.model_selection import train_test_split\n",
    "\n",
    "X_train, X_test, y_train, y_test = train_test_split(\n",
    "    df[['x1', 'x2', 'x3', 'x4', 'x5']], df['y'],\n",
    "    test_size=0.3,\n",
    "    random_state=0\n",
    ")"
   ],
   "metadata": {
    "collapsed": false,
    "pycharm": {
     "name": "#%%\n"
    }
   }
  },
  {
   "cell_type": "code",
   "execution_count": null,
   "outputs": [],
   "source": [
    "# Create a neural network with one hidden layer consisting of two neurons using Keras. Train it on the training dataset. Set the maximum number of epochs to 50.\n",
    "from keras.models import Sequential\n",
    "from keras.layers import Dense\n",
    "\n",
    "model = Sequential()\n",
    "model.add(Dense(2, input_dim=5, activation='relu'))\n",
    "model.add(Dense(1, activation='linear'))\n",
    "model.compile(loss='mean_squared_error', optimizer='adam')\n",
    "history = model.fit(X_train, y_train, epochs=50, verbose=0)"
   ],
   "metadata": {
    "collapsed": false,
    "pycharm": {
     "name": "#%%\n"
    }
   }
  },
  {
   "cell_type": "code",
   "execution_count": null,
   "outputs": [],
   "source": [
    "# Print the approximate values of the function and network prediction for the test sample, as well as the network error on the test sample.\n",
    "print('y = (x1 + x2) / x3  + x4 * x5')\n",
    "print('y_pred =', model.predict([[1.5, 2.5, 1.5, 1.5, 1.5]]))\n",
    "print('y_test =', y_test.iloc[0])\n",
    "print('error =', np.abs(model.predict([[1.5, 2.5, 1.5, 1.5, 1.5]]) - y_test.iloc[0]))"
   ],
   "metadata": {
    "collapsed": false,
    "pycharm": {
     "name": "#%%\n"
    }
   }
  },
  {
   "cell_type": "code",
   "execution_count": null,
   "outputs": [],
   "source": [
    "plt.plot(history.history['loss'])\n",
    "plt.title('model loss')\n",
    "plt.ylabel('loss')\n",
    "plt.xlabel('epoch')\n",
    "plt.legend(['error'], loc='best')\n",
    "plt.show()"
   ],
   "metadata": {
    "collapsed": false,
    "pycharm": {
     "name": "#%%\n"
    }
   }
  },
  {
   "cell_type": "code",
   "execution_count": null,
   "outputs": [],
   "source": [
    "# Estimate the recommended number of hidden neurons in the problem of the considered class. Create a new network with this number of hidden neurons\n",
    "# and train it on the training dataset. Set the maximum number of epochs to 50.\n",
    "from sklearn.model_selection import GridSearchCV\n",
    "from sklearn.neural_network import MLPRegressor\n",
    "\n",
    "param_grid = {'hidden_layer_sizes': [(2,), (3,), (4,), (5,), (6,), (7,), (8,), (9,), (10,)]}\n",
    "grid = GridSearchCV(MLPRegressor(), param_grid, cv=3, scoring='neg_mean_squared_error')\n",
    "grid.fit(X_train, y_train)\n",
    "print('Best parameters found on training set:', grid.best_params_)\n",
    "print('Best score:', grid.best_score_)"
   ],
   "metadata": {
    "collapsed": false,
    "pycharm": {
     "name": "#%%\n"
    }
   }
  },
  {
   "cell_type": "code",
   "execution_count": null,
   "outputs": [],
   "source": [
    "model = Sequential()\n",
    "model.add(Dense(8, input_dim=5, activation='relu'))\n",
    "model.add(Dense(1, activation='linear'))\n",
    "model.compile(loss='mean_squared_error', optimizer='adam')\n",
    "history = model.fit(X_train, y_train, epochs=50, verbose=0)"
   ],
   "metadata": {
    "collapsed": false,
    "pycharm": {
     "name": "#%%\n"
    }
   }
  },
  {
   "cell_type": "code",
   "execution_count": null,
   "outputs": [],
   "source": [
    "# Print the approximate values of the function and network prediction for the test sample, as well as the network error on the test sample.\n",
    "print('y = (x1 + x2) / x3  + x4 * x5')\n",
    "print('y_pred =', model.predict([[1.5, 2.5, 1.5, 1.5, 1.5]]))\n",
    "print('y_test =', y_test.iloc[0])\n",
    "print('error =', np.abs(model.predict([[1.5, 2.5, 1.5, 1.5, 1.5]]) - y_test.iloc[0]))"
   ],
   "metadata": {
    "collapsed": false,
    "pycharm": {
     "name": "#%%\n"
    }
   }
  },
  {
   "cell_type": "code",
   "execution_count": null,
   "outputs": [],
   "source": [
    "plt.plot(history.history['loss'])\n",
    "plt.title('model loss')\n",
    "plt.ylabel('loss')\n",
    "plt.xlabel('epoch')\n",
    "plt.legend(['error'], loc='best')\n",
    "plt.show()"
   ],
   "metadata": {
    "collapsed": false,
    "pycharm": {
     "name": "#%%\n"
    }
   }
  },
  {
   "cell_type": "code",
   "execution_count": null,
   "outputs": [],
   "source": [
    "x1 = np.random.uniform(1, 3, 1000) / 0.2\n",
    "x2 = np.random.uniform(1, 3, 1000) / 0.2\n",
    "x3 = np.random.uniform(1, 3, 1000) / 0.2\n",
    "x4 = np.random.uniform(1, 3, 1000) / 0.2\n",
    "x5 = np.random.uniform(1, 3, 1000) / 0.2\n",
    "y = (x1 + x2) / x3 + x4 * x5\n",
    "\n",
    "df = pd.DataFrame({'x1': x1, 'x2': x2, 'x3': x3, 'x4': x4, 'x5': x5, 'y': y})\n",
    "df.head()"
   ],
   "metadata": {
    "collapsed": false,
    "pycharm": {
     "name": "#%%\n"
    }
   }
  },
  {
   "cell_type": "code",
   "execution_count": null,
   "outputs": [],
   "source": [
    "# Split the data into training / test sets (training set - 70% of all available data).\n",
    "from sklearn.model_selection import train_test_split\n",
    "\n",
    "X_train, X_test, y_train, y_test = train_test_split(\n",
    "    df[['x1', 'x2', 'x3', 'x4', 'x5']], df['y'],\n",
    "    test_size=0.3,\n",
    "    random_state=0\n",
    ")"
   ],
   "metadata": {
    "collapsed": false,
    "pycharm": {
     "name": "#%%\n"
    }
   }
  },
  {
   "cell_type": "code",
   "execution_count": null,
   "outputs": [],
   "source": [
    "model = Sequential()\n",
    "model.add(Dense(8, input_dim=5, activation='relu'))\n",
    "model.add(Dense(1, activation='linear'))\n",
    "model.compile(loss='mean_squared_error', optimizer='adam')\n",
    "history = model.fit(X_train, y_train, epochs=50, verbose=0)"
   ],
   "metadata": {
    "collapsed": false,
    "pycharm": {
     "name": "#%%\n"
    }
   }
  },
  {
   "cell_type": "code",
   "execution_count": null,
   "outputs": [],
   "source": [
    "# Print the approximate values of the function and network prediction for the test sample, as well as the network error on the test sample.\n",
    "print('y = (x1 + x2) / x3  + x4 * x5')\n",
    "print('y_pred =', model.predict([[1.5, 2.5, 1.5, 1.5, 1.5]]))\n",
    "print('y_test =', y_test.iloc[0])\n",
    "print('error =', np.abs(model.predict([[1.5, 2.5, 1.5, 1.5, 1.5]]) - y_test.iloc[0]))"
   ],
   "metadata": {
    "collapsed": false,
    "pycharm": {
     "name": "#%%\n"
    }
   }
  },
  {
   "cell_type": "code",
   "execution_count": null,
   "outputs": [],
   "source": [
    "plt.plot(history.history['loss'])\n",
    "plt.title('model loss')\n",
    "plt.ylabel('loss')\n",
    "plt.xlabel('epoch')\n",
    "plt.legend(['error'], loc='best')\n",
    "plt.show()"
   ],
   "metadata": {
    "collapsed": false,
    "pycharm": {
     "name": "#%%\n"
    }
   }
  },
  {
   "cell_type": "code",
   "source": [
    "plt.plot(history.history['loss'])\n",
    "plt.title('model loss')\n",
    "plt.ylabel('loss')\n",
    "plt.xlabel('epoch')\n",
    "plt.legend(['error'], loc='best')\n",
    "plt.show()"
   ],
   "metadata": {
    "colab": {
     "base_uri": "https://localhost:8080/",
     "height": 295
    },
    "id": "iVeM7359OBl_",
    "executionInfo": {
     "status": "ok",
     "timestamp": 1654774065374,
     "user_tz": -300,
     "elapsed": 12,
     "user": {
      "displayName": "Ronny Portillo",
      "userId": "17380255070076961304"
     }
    },
    "outputId": "4c668b91-7637-4ace-9b7e-3da9fe46a569"
   },
   "execution_count": 30,
   "outputs": [
    {
     "output_type": "display_data",
     "data": {
      "text/plain": [
       "<Figure size 432x288 with 1 Axes>"
      ],
      "image/png": "[encoded data removed]"
     },
     "metadata": {
      "needs_background": "light"
     }
    }
   ]
  },
  {
   "cell_type": "code",
   "source": [
    "x1 = np.random.uniform(1, 3, 1000) / 0.2\n",
    "x2 = np.random.uniform(1, 3, 1000) / 0.2\n",
    "x3 = np.random.uniform(1, 3, 1000) / 0.2\n",
    "x4 = np.random.uniform(1, 3, 1000) / 0.2\n",
    "x5 = np.random.uniform(1, 3, 1000) / 0.2\n",
    "y = (x1 + x2) / x3 + x4 * x5\n",
    "\n",
    "df = pd.DataFrame({'x1': x1, 'x2': x2, 'x3': x3, 'x4': x4, 'x5': x5, 'y': y})\n",
    "df.head()"
   ],
   "metadata": {
    "colab": {
     "base_uri": "https://localhost:8080/",
     "height": 206
    },
    "id": "7oMmpeCTLsC1",
    "executionInfo": {
     "status": "ok",
     "timestamp": 1654774065375,
     "user_tz": -300,
     "elapsed": 11,
     "user": {
      "displayName": "Ronny Portillo",
      "userId": "17380255070076961304"
     }
    },
    "outputId": "595656a9-76f8-4eb0-f3c4-946a9f067642"
   },
   "execution_count": 31,
   "outputs": [
    {
     "output_type": "execute_result",
     "data": {
      "text/plain": [
       "          x1         x2         x3         x4         x5           y\n",
       "0   7.191658  14.184730   7.187922  13.237718   6.847687   93.621676\n",
       "1  14.847067  14.025621  14.186113  12.698414   9.213609  119.033494\n",
       "2   6.832157  10.896431   5.508308  11.916075   7.796676   96.124291\n",
       "3  13.365324   8.952945   5.407700   8.267716  11.253840   97.170680\n",
       "4   9.538297  10.863123   5.554815  11.023829   7.455968   85.866063"
      ],
      "text/html": [
       "\n",
       "  <div id=\"df-05fc5807-a656-4bd9-b662-553ac6dbd99d\">\n",
       "    <div class=\"colab-df-container\">\n",
       "      <div>\n",
       "<style scoped>\n",
       "    .dataframe tbody tr th:only-of-type {\n",
       "        vertical-align: middle;\n",
       "    }\n",
       "\n",
       "    .dataframe tbody tr th {\n",
       "        vertical-align: top;\n",
       "    }\n",
       "\n",
       "    .dataframe thead th {\n",
       "        text-align: right;\n",
       "    }\n",
       "</style>\n",
       "<table border=\"1\" class=\"dataframe\">\n",
       "  <thead>\n",
       "    <tr style=\"text-align: right;\">\n",
       "      <th></th>\n",
       "      <th>x1</th>\n",
       "      <th>x2</th>\n",
       "      <th>x3</th>\n",
       "      <th>x4</th>\n",
       "      <th>x5</th>\n",
       "      <th>y</th>\n",
       "    </tr>\n",
       "  </thead>\n",
       "  <tbody>\n",
       "    <tr>\n",
       "      <th>0</th>\n",
       "      <td>7.191658</td>\n",
       "      <td>14.184730</td>\n",
       "      <td>7.187922</td>\n",
       "      <td>13.237718</td>\n",
       "      <td>6.847687</td>\n",
       "      <td>93.621676</td>\n",
       "    </tr>\n",
       "    <tr>\n",
       "      <th>1</th>\n",
       "      <td>14.847067</td>\n",
       "      <td>14.025621</td>\n",
       "      <td>14.186113</td>\n",
       "      <td>12.698414</td>\n",
       "      <td>9.213609</td>\n",
       "      <td>119.033494</td>\n",
       "    </tr>\n",
       "    <tr>\n",
       "      <th>2</th>\n",
       "      <td>6.832157</td>\n",
       "      <td>10.896431</td>\n",
       "      <td>5.508308</td>\n",
       "      <td>11.916075</td>\n",
       "      <td>7.796676</td>\n",
       "      <td>96.124291</td>\n",
       "    </tr>\n",
       "    <tr>\n",
       "      <th>3</th>\n",
       "      <td>13.365324</td>\n",
       "      <td>8.952945</td>\n",
       "      <td>5.407700</td>\n",
       "      <td>8.267716</td>\n",
       "      <td>11.253840</td>\n",
       "      <td>97.170680</td>\n",
       "    </tr>\n",
       "    <tr>\n",
       "      <th>4</th>\n",
       "      <td>9.538297</td>\n",
       "      <td>10.863123</td>\n",
       "      <td>5.554815</td>\n",
       "      <td>11.023829</td>\n",
       "      <td>7.455968</td>\n",
       "      <td>85.866063</td>\n",
       "    </tr>\n",
       "  </tbody>\n",
       "</table>\n",
       "</div>\n",
       "      <button class=\"colab-df-convert\" onclick=\"convertToInteractive('df-05fc5807-a656-4bd9-b662-553ac6dbd99d')\"\n",
       "              title=\"Convert this dataframe to an interactive table.\"\n",
       "              style=\"display:none;\">\n",
       "        \n",
       "  <svg xmlns=\"http://www.w3.org/2000/svg\" height=\"24px\"viewBox=\"0 0 24 24\"\n",
       "       width=\"24px\">\n",
       "    <path d=\"M0 0h24v24H0V0z\" fill=\"none\"/>\n",
       "    <path d=\"M18.56 5.44l.94 2.06.94-2.06 2.06-.94-2.06-.94-.94-2.06-.94 2.06-2.06.94zm-11 1L8.5 8.5l.94-2.06 2.06-.94-2.06-.94L8.5 2.5l-.94 2.06-2.06.94zm10 10l.94 2.06.94-2.06 2.06-.94-2.06-.94-.94-2.06-.94 2.06-2.06.94z\"/><path d=\"M17.41 7.96l-1.37-1.37c-.4-.4-.92-.59-1.43-.59-.52 0-1.04.2-1.43.59L10.3 9.45l-7.72 7.72c-.78.78-.78 2.05 0 2.83L4 21.41c.39.39.9.59 1.41.59.51 0 1.02-.2 1.41-.59l7.78-7.78 2.81-2.81c.8-.78.8-2.07 0-2.86zM5.41 20L4 18.59l7.72-7.72 1.47 1.35L5.41 20z\"/>\n",
       "  </svg>\n",
       "      </button>\n",
       "      \n",
       "  <style>\n",
       "    .colab-df-container {\n",
       "      display:flex;\n",
       "      flex-wrap:wrap;\n",
       "      gap: 12px;\n",
       "    }\n",
       "\n",
       "    .colab-df-convert {\n",
       "      background-color: #E8F0FE;\n",
       "      border: none;\n",
       "      border-radius: 50%;\n",
       "      cursor: pointer;\n",
       "      display: none;\n",
       "      fill: #1967D2;\n",
       "      height: 32px;\n",
       "      padding: 0 0 0 0;\n",
       "      width: 32px;\n",
       "    }\n",
       "\n",
       "    .colab-df-convert:hover {\n",
       "      background-color: #E2EBFA;\n",
       "      box-shadow: 0px 1px 2px rgba(60, 64, 67, 0.3), 0px 1px 3px 1px rgba(60, 64, 67, 0.15);\n",
       "      fill: #174EA6;\n",
       "    }\n",
       "\n",
       "    [theme=dark] .colab-df-convert {\n",
       "      background-color: #3B4455;\n",
       "      fill: #D2E3FC;\n",
       "    }\n",
       "\n",
       "    [theme=dark] .colab-df-convert:hover {\n",
       "      background-color: #434B5C;\n",
       "      box-shadow: 0px 1px 3px 1px rgba(0, 0, 0, 0.15);\n",
       "      filter: drop-shadow(0px 1px 2px rgba(0, 0, 0, 0.3));\n",
       "      fill: #FFFFFF;\n",
       "    }\n",
       "  </style>\n",
       "\n",
       "      <script>\n",
       "        const buttonEl =\n",
       "          document.querySelector('#df-05fc5807-a656-4bd9-b662-553ac6dbd99d button.colab-df-convert');\n",
       "        buttonEl.style.display =\n",
       "          google.colab.kernel.accessAllowed ? 'block' : 'none';\n",
       "\n",
       "        async function convertToInteractive(key) {\n",
       "          const element = document.querySelector('#df-05fc5807-a656-4bd9-b662-553ac6dbd99d');\n",
       "          const dataTable =\n",
       "            await google.colab.kernel.invokeFunction('convertToInteractive',\n",
       "                                                     [key], {});\n",
       "          if (!dataTable) return;\n",
       "\n",
       "          const docLinkHtml = 'Like what you see? Visit the ' +\n",
       "            '<a target=\"_blank\" href=https://colab.research.google.com/notebooks/data_table.ipynb>data table notebook</a>'\n",
       "            + ' to learn more about interactive tables.';\n",
       "          element.innerHTML = '';\n",
       "          dataTable['output_type'] = 'display_data';\n",
       "          await google.colab.output.renderOutput(dataTable, element);\n",
       "          const docLink = document.createElement('div');\n",
       "          docLink.innerHTML = docLinkHtml;\n",
       "          element.appendChild(docLink);\n",
       "        }\n",
       "      </script>\n",
       "    </div>\n",
       "  </div>\n",
       "  "
      ]
     },
     "metadata": {},
     "execution_count": 31
    }
   ]
  },
  {
   "cell_type": "code",
   "source": [
    "# Split the data into training / test sets (training set - 70% of all available data).\n",
    "from sklearn.model_selection import train_test_split\n",
    "\n",
    "X_train, X_test, y_train, y_test = train_test_split(\n",
    "    df[['x1', 'x2', 'x3', 'x4', 'x5']], df['y'],\n",
    "    test_size=0.3,\n",
    "    random_state=0\n",
    ")"
   ],
   "metadata": {
    "id": "RRGMpFC-My0u",
    "executionInfo": {
     "status": "ok",
     "timestamp": 1654774065375,
     "user_tz": -300,
     "elapsed": 10,
     "user": {
      "displayName": "Ronny Portillo",
      "userId": "17380255070076961304"
     }
    }
   },
   "execution_count": 32,
   "outputs": []
  },
  {
   "cell_type": "code",
   "source": [
    "model = Sequential()\n",
    "model.add(Dense(8, input_dim=5, activation='relu'))\n",
    "model.add(Dense(1, activation='linear'))\n",
    "model.compile(loss='mean_squared_error', optimizer='adam')\n",
    "history = model.fit(X_train, y_train, epochs=50, verbose=0)"
   ],
   "metadata": {
    "id": "FXMRbvnXMpVF",
    "executionInfo": {
     "status": "ok",
     "timestamp": 1654774067193,
     "user_tz": -300,
     "elapsed": 1828,
     "user": {
      "displayName": "Ronny Portillo",
      "userId": "17380255070076961304"
     }
    }
   },
   "execution_count": 33,
   "outputs": []
  },
  {
   "cell_type": "code",
   "source": [
    "# Print the approximate values of the function and network prediction for the test sample, as well as the network error on the test sample.\n",
    "print('y = (x1 + x2) / x3  + x4 * x5')\n",
    "print('y_pred =', model.predict([[1.5, 2.5, 1.5, 1.5, 1.5]]))\n",
    "print('y_test =', y_test.iloc[0])\n",
    "print('error =', np.abs(model.predict([[1.5, 2.5, 1.5, 1.5, 1.5]]) - y_test.iloc[0]))"
   ],
   "metadata": {
    "colab": {
     "base_uri": "https://localhost:8080/"
    },
    "id": "cOoAES15M18s",
    "executionInfo": {
     "status": "ok",
     "timestamp": 1654774067194,
     "user_tz": -300,
     "elapsed": 5,
     "user": {
      "displayName": "Ronny Portillo",
      "userId": "17380255070076961304"
     }
    },
    "outputId": "3a8ada99-4fae-4c3e-b6ba-80b596ba68a9"
   },
   "execution_count": 34,
   "outputs": [
    {
     "output_type": "stream",
     "name": "stdout",
     "text": [
      "y = (x1 + x2) / x3  + x4 * x5\n",
      "y_pred = [[15.027691]]\n",
      "y_test = 68.3809313888685\n",
      "error = [[53.353237]]\n"
     ]
    }
   ]
  },
  {
   "cell_type": "code",
   "source": [
    "plt.plot(history.history['loss'])\n",
    "plt.title('model loss')\n",
    "plt.ylabel('loss')\n",
    "plt.xlabel('epoch')\n",
    "plt.legend(['error'], loc='best')\n",
    "plt.show()"
   ],
   "metadata": {
    "colab": {
     "base_uri": "https://localhost:8080/",
     "height": 295
    },
    "id": "m-h5PR0FNhvB",
    "executionInfo": {
     "status": "ok",
     "timestamp": 1654774068430,
     "user_tz": -300,
     "elapsed": 1240,
     "user": {
      "displayName": "Ronny Portillo",
      "userId": "17380255070076961304"
     }
    },
    "outputId": "4b600490-6cb0-4466-fb65-21405c6c4989"
   },
   "execution_count": 35,
   "outputs": [
    {
     "output_type": "display_data",
     "data": {
      "text/plain": [
       "<Figure size 432x288 with 1 Axes>"
      ],
      "image/png": "[encoded data removed]"
     },
     "metadata": {
      "needs_background": "light"
     }
    }
   ]
  }
 ]
}