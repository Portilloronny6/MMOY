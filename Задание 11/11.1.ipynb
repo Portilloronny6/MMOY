{
 "cells": [
  {
   "cell_type": "code",
   "execution_count": 17,
   "outputs": [],
   "source": [
    "import warnings\n",
    "warnings.filterwarnings('ignore')\n",
    "# formula y = (x1 + x2) / x3  + x4 * x5\n",
    "\n",
    "# Create a data set of 1000 objects: feature values are pseudo-random numbers uniformly distributed over the interval (1; 3)\n",
    "import numpy as np\n",
    "\n",
    "x1 = np.random.uniform(1, 3, 1000)\n",
    "x2 = np.random.uniform(1, 3, 1000)\n",
    "x3 = np.random.uniform(1, 3, 1000)\n",
    "x4 = np.random.uniform(1, 3, 1000)\n",
    "x5 = np.random.uniform(1, 3, 1000)\n",
    "y = (x1 + x2) / x3 + x4 * x5"
   ],
   "metadata": {
    "collapsed": false,
    "pycharm": {
     "name": "#%%\n"
    }
   }
  },
  {
   "cell_type": "code",
   "execution_count": 18,
   "outputs": [
    {
     "data": {
      "text/plain": "         x1        x2        x3        x4        x5         y\n0  1.218485  1.858140  2.572106  1.404423  2.075966  4.111686\n1  1.513753  2.951373  1.626498  1.181168  1.023758  3.954468\n2  1.115419  2.536814  2.054208  2.758397  1.986416  7.257252\n3  1.361780  1.452677  1.534471  2.842575  1.727793  6.745534\n4  1.663189  2.508776  2.518290  1.278332  2.000133  4.213501",
      "text/html": "<div>\n<style scoped>\n    .dataframe tbody tr th:only-of-type {\n        vertical-align: middle;\n    }\n\n    .dataframe tbody tr th {\n        vertical-align: top;\n    }\n\n    .dataframe thead th {\n        text-align: right;\n    }\n</style>\n<table border=\"1\" class=\"dataframe\">\n  <thead>\n    <tr style=\"text-align: right;\">\n      <th></th>\n      <th>x1</th>\n      <th>x2</th>\n      <th>x3</th>\n      <th>x4</th>\n      <th>x5</th>\n      <th>y</th>\n    </tr>\n  </thead>\n  <tbody>\n    <tr>\n      <th>0</th>\n      <td>1.218485</td>\n      <td>1.858140</td>\n      <td>2.572106</td>\n      <td>1.404423</td>\n      <td>2.075966</td>\n      <td>4.111686</td>\n    </tr>\n    <tr>\n      <th>1</th>\n      <td>1.513753</td>\n      <td>2.951373</td>\n      <td>1.626498</td>\n      <td>1.181168</td>\n      <td>1.023758</td>\n      <td>3.954468</td>\n    </tr>\n    <tr>\n      <th>2</th>\n      <td>1.115419</td>\n      <td>2.536814</td>\n      <td>2.054208</td>\n      <td>2.758397</td>\n      <td>1.986416</td>\n      <td>7.257252</td>\n    </tr>\n    <tr>\n      <th>3</th>\n      <td>1.361780</td>\n      <td>1.452677</td>\n      <td>1.534471</td>\n      <td>2.842575</td>\n      <td>1.727793</td>\n      <td>6.745534</td>\n    </tr>\n    <tr>\n      <th>4</th>\n      <td>1.663189</td>\n      <td>2.508776</td>\n      <td>2.518290</td>\n      <td>1.278332</td>\n      <td>2.000133</td>\n      <td>4.213501</td>\n    </tr>\n  </tbody>\n</table>\n</div>"
     },
     "execution_count": 18,
     "metadata": {},
     "output_type": "execute_result"
    }
   ],
   "source": [
    "import pandas as pd\n",
    "\n",
    "df = pd.DataFrame({'x1': x1, 'x2': x2, 'x3': x3, 'x4': x4, 'x5': x5, 'y': y})\n",
    "df.head()"
   ],
   "metadata": {
    "collapsed": false,
    "pycharm": {
     "name": "#%%\n"
    }
   }
  },
  {
   "cell_type": "code",
   "execution_count": 19,
   "outputs": [],
   "source": [
    "# Split the data into training / test sets (training set - 70% of all available data).\n",
    "from sklearn.model_selection import train_test_split\n",
    "\n",
    "X_train, X_test, y_train, y_test = train_test_split(\n",
    "    df[['x1', 'x2', 'x3', 'x4', 'x5']], df['y'],\n",
    "    test_size=0.3,\n",
    "    random_state=0\n",
    ")"
   ],
   "metadata": {
    "collapsed": false,
    "pycharm": {
     "name": "#%%\n"
    }
   }
  },
  {
   "cell_type": "code",
   "execution_count": 20,
   "outputs": [
    {
     "data": {
      "text/plain": "MLPRegressor(hidden_layer_sizes=(2,), max_iter=50)"
     },
     "execution_count": 20,
     "metadata": {},
     "output_type": "execute_result"
    }
   ],
   "source": [
    "# Create a neural network with one hidden layer consisting of two neurons using tensorflow. Train it on the training dataset. Set the maximum number of epochs to 50.\n",
    "from sklearn.neural_network import MLPRegressor\n",
    "\n",
    "\n",
    "mlp = MLPRegressor(hidden_layer_sizes=(2,), max_iter=50)\n",
    "mlp.fit(X_train, y_train)"
   ],
   "metadata": {
    "collapsed": false,
    "pycharm": {
     "name": "#%%\n"
    }
   }
  },
  {
   "cell_type": "code",
   "execution_count": 21,
   "outputs": [
    {
     "name": "stdout",
     "output_type": "stream",
     "text": [
      "y = (x1 + x2) / x3  + x4 * x5\n",
      "y_pred = [4.22662663]\n",
      "y_test = 3.9539592418819645\n",
      "error = [0.27266739]\n"
     ]
    }
   ],
   "source": [
    "# Print the approximate values of the function and network prediction for the test sample, as well as the network error on the test sample.\n",
    "print('y = (x1 + x2) / x3  + x4 * x5')\n",
    "print('y_pred =', mlp.predict([[1.5, 2.5, 1.5, 1.5, 1.5]]))\n",
    "print('y_test =', y_test.iloc[0])\n",
    "print('error =', np.abs(mlp.predict([[1.5, 2.5, 1.5, 1.5, 1.5]]) - y_test.iloc[0]))"
   ],
   "metadata": {
    "collapsed": false,
    "pycharm": {
     "name": "#%%\n"
    }
   }
  },
  {
   "cell_type": "code",
   "execution_count": 22,
   "outputs": [
    {
     "data": {
      "text/plain": "<Figure size 432x288 with 1 Axes>",
      "image/png": "[encoded data removed]"
     },
     "metadata": {},
     "output_type": "display_data"
    }
   ],
   "source": [
    "# Display a graph of network errors on the training and test sets depending on the number of iterations.\n",
    "import matplotlib.pyplot as plt\n",
    "\n",
    "\n",
    "plt.plot(mlp.loss_curve_)\n",
    "plt.xlabel('Iterations')\n",
    "plt.ylabel('Error')\n",
    "plt.show()"
   ],
   "metadata": {
    "collapsed": false,
    "pycharm": {
     "name": "#%%\n"
    }
   }
  },
  {
   "cell_type": "code",
   "execution_count": null,
   "outputs": [],
   "source": [],
   "metadata": {
    "collapsed": false,
    "pycharm": {
     "name": "#%%\n"
    }
   }
  }
 ],
 "metadata": {
  "kernelspec": {
   "display_name": "Python 3",
   "language": "python",
   "name": "python3"
  },
  "language_info": {
   "codemirror_mode": {
    "name": "ipython",
    "version": 2
   },
   "file_extension": ".py",
   "mimetype": "text/x-python",
   "name": "python",
   "nbconvert_exporter": "python",
   "pygments_lexer": "ipython2",
   "version": "2.7.6"
  }
 },
 "nbformat": 4,
 "nbformat_minor": 0
}