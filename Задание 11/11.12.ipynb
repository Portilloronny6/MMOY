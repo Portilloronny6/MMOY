{
 "cells": [
  {
   "cell_type": "code",
   "execution_count": null,
   "outputs": [],
   "source": [
    "# Create a neural network for multiplication of two numbers using the Keras API\n",
    "\n"
   ],
   "metadata": {
    "collapsed": false,
    "pycharm": {
     "name": "#%%\n"
    }
   }
  },
  {
   "cell_type": "code",
   "execution_count": null,
   "outputs": [],
   "source": [
    "# Import the necessary Keras modules\n",
    "from keras.models import Sequential\n",
    "from keras.layers import Dense\n",
    "\n"
   ],
   "metadata": {
    "collapsed": false,
    "pycharm": {
     "name": "#%%\n"
    }
   }
  },
  {
   "cell_type": "code",
   "execution_count": null,
   "outputs": [],
   "source": [
    "# Create a sequential model\n",
    "model = Sequential()\n",
    "\n"
   ],
   "metadata": {
    "collapsed": false,
    "pycharm": {
     "name": "#%%\n"
    }
   }
  },
  {
   "cell_type": "code",
   "execution_count": null,
   "outputs": [],
   "source": [
    "# Add the first layer\n",
    "model.add(Dense(units=1, input_shape=(2,)))\n",
    "\n"
   ],
   "metadata": {
    "collapsed": false,
    "pycharm": {
     "name": "#%%\n"
    }
   }
  },
  {
   "cell_type": "code",
   "execution_count": null,
   "outputs": [],
   "source": [
    "# Add the output layer\n",
    "model.add(Dense(units=1))\n",
    "\n"
   ],
   "metadata": {
    "collapsed": false,
    "pycharm": {
     "name": "#%%\n"
    }
   }
  },
  {
   "cell_type": "code",
   "execution_count": null,
   "outputs": [],
   "source": [
    "# Compile the model\n",
    "model.compile(optimizer='adam', loss='mse')\n",
    "\n"
   ],
   "metadata": {
    "collapsed": false,
    "pycharm": {
     "name": "#%%\n"
    }
   }
  },
  {
   "cell_type": "code",
   "execution_count": null,
   "outputs": [],
   "source": [
    "# Create a list of input values\n",
    "x_input = [[0, 0], [0, 1], [1, 0], [1, 1]]\n",
    "\n"
   ],
   "metadata": {
    "collapsed": false,
    "pycharm": {
     "name": "#%%\n"
    }
   }
  },
  {
   "cell_type": "code",
   "execution_count": null,
   "outputs": [],
   "source": [
    "# Create a list of output values\n",
    "y_output = [[0], [0], [0], [1]]\n",
    "\n"
   ],
   "metadata": {
    "collapsed": false,
    "pycharm": {
     "name": "#%%\n"
    }
   }
  },
  {
   "cell_type": "code",
   "execution_count": 3,
   "outputs": [
    {
     "ename": "NameError",
     "evalue": "name 'model' is not defined",
     "output_type": "error",
     "traceback": [
      "\u001B[1;31m---------------------------------------------------------------------------\u001B[0m",
      "\u001B[1;31mNameError\u001B[0m                                 Traceback (most recent call last)",
      "Input \u001B[1;32mIn [3]\u001B[0m, in \u001B[0;36m<cell line: 2>\u001B[1;34m()\u001B[0m\n\u001B[0;32m      1\u001B[0m \u001B[38;5;66;03m# Train the model\u001B[39;00m\n\u001B[1;32m----> 2\u001B[0m \u001B[43mmodel\u001B[49m\u001B[38;5;241m.\u001B[39mfit(x_input, y_output, epochs\u001B[38;5;241m=\u001B[39m\u001B[38;5;241m500\u001B[39m)\n",
      "\u001B[1;31mNameError\u001B[0m: name 'model' is not defined"
     ]
    }
   ],
   "source": [
    "# Train the model\n",
    "model.fit(x_input, y_output, epochs=500)"
   ],
   "metadata": {
    "collapsed": false,
    "pycharm": {
     "name": "#%%\n"
    }
   }
  },
  {
   "cell_type": "code",
   "execution_count": null,
   "outputs": [],
   "source": [
    "print(model.predict([[1, 0]]))\n",
    "print(model.predict([[0, 1]]))\n",
    "print(model.predict([[1, 1]]))\n",
    "print(model.predict([[0, 0]]))"
   ],
   "metadata": {
    "collapsed": false,
    "pycharm": {
     "name": "#%%# use the model to predict the output of a given input\n"
    }
   }
  },
  {
   "cell_type": "code",
   "execution_count": 7,
   "outputs": [],
   "source": [
    "# Write the multiplication table from 1 to 10 and the results to a csv file with his coresponding headers\n",
    "import csv\n",
    "with open('multiplication_table.csv', 'w', newline='') as csvfile:\n",
    "    writer = csv.writer(csvfile, delimiter=',')\n",
    "    writer.writerow(['x', 'y', 'result'])\n",
    "    for x in range(1, 11):\n",
    "        for y in range(1, 11):\n",
    "            writer.writerow([x, y, x*y])"
   ],
   "metadata": {
    "collapsed": false,
    "pycharm": {
     "name": "#%%\n"
    }
   }
  },
  {
   "cell_type": "code",
   "execution_count": 8,
   "outputs": [
    {
     "name": "stdout",
     "output_type": "stream",
     "text": [
      "     x   y  result\n",
      "0    1   1       1\n",
      "1    1   2       2\n",
      "2    1   3       3\n",
      "3    1   4       4\n",
      "4    1   5       5\n",
      "..  ..  ..     ...\n",
      "95  10   6      60\n",
      "96  10   7      70\n",
      "97  10   8      80\n",
      "98  10   9      90\n",
      "99  10  10     100\n",
      "\n",
      "[100 rows x 3 columns]\n"
     ]
    }
   ],
   "source": [
    "# Read the csv file using pandas\n",
    "import pandas as pd\n",
    "df = pd.read_csv('multiplication_table.csv')\n",
    "print(df)"
   ],
   "metadata": {
    "collapsed": false,
    "pycharm": {
     "name": "#%%\n"
    }
   }
  },
  {
   "cell_type": "code",
   "execution_count": 9,
   "outputs": [],
   "source": [
    "# Save the values of x and y in one list and the result in another.\n",
    "x = df['x'].tolist()\n",
    "y = df['y'].tolist()\n",
    "result = df['result'].tolist()"
   ],
   "metadata": {
    "collapsed": false,
    "pycharm": {
     "name": "#%%\n"
    }
   }
  },
  {
   "cell_type": "code",
   "execution_count": 12,
   "outputs": [
    {
     "data": {
      "text/plain": "[1,\n 2,\n 3,\n 4,\n 5,\n 6,\n 7,\n 8,\n 9,\n 10,\n 2,\n 4,\n 6,\n 8,\n 10,\n 12,\n 14,\n 16,\n 18,\n 20,\n 3,\n 6,\n 9,\n 12,\n 15,\n 18,\n 21,\n 24,\n 27,\n 30,\n 4,\n 8,\n 12,\n 16,\n 20,\n 24,\n 28,\n 32,\n 36,\n 40,\n 5,\n 10,\n 15,\n 20,\n 25,\n 30,\n 35,\n 40,\n 45,\n 50,\n 6,\n 12,\n 18,\n 24,\n 30,\n 36,\n 42,\n 48,\n 54,\n 60,\n 7,\n 14,\n 21,\n 28,\n 35,\n 42,\n 49,\n 56,\n 63,\n 70,\n 8,\n 16,\n 24,\n 32,\n 40,\n 48,\n 56,\n 64,\n 72,\n 80,\n 9,\n 18,\n 27,\n 36,\n 45,\n 54,\n 63,\n 72,\n 81,\n 90,\n 10,\n 20,\n 30,\n 40,\n 50,\n 60,\n 70,\n 80,\n 90,\n 100]"
     },
     "execution_count": 12,
     "metadata": {},
     "output_type": "execute_result"
    }
   ],
   "source": [
    "# group x and y in a list of lists\n",
    "x_y = []\n",
    "for i in range(len(x)):\n",
    "    x_y.append([x[i], y[i]])"
   ],
   "metadata": {
    "collapsed": false,
    "pycharm": {
     "name": "#%%\n"
    }
   }
  },
  {
   "cell_type": "code",
   "execution_count": 13,
   "outputs": [],
   "source": [
    "# Split the data into training / test samples (training sample - 70% of all available data).\n",
    "from sklearn.model_selection import train_test_split\n",
    "x_train, x_test, y_train, y_test = train_test_split(x_y, result, test_size=0.3, random_state=42)"
   ],
   "metadata": {
    "collapsed": false,
    "pycharm": {
     "name": "#%%\n"
    }
   }
  },
  {
   "cell_type": "code",
   "execution_count": 13,
   "outputs": [],
   "source": [],
   "metadata": {
    "collapsed": false,
    "pycharm": {
     "name": "#%%x_train\n"
    }
   }
  },
  {
   "cell_type": "code",
   "execution_count": null,
   "outputs": [],
   "source": [
    "# Create a neural network with one hidden layer consisting of two neurons. Train it on the training dataset. Output approximate values and network predictions for the test sample.\n",
    "from keras.models import Sequential\n",
    "from keras.layers import Dense\n",
    "model = Sequential()\n",
    "model.add(Dense(units=2, input_shape=(2,)))\n",
    "model.add(Dense(units=1))\n",
    "model.compile(optimizer='adam', loss='mse')\n",
    "model.fit(x_train, y_train, epochs=500)\n",
    "# print the train values and the predictions\n",
    "print(x_train)\n",
    "print(y_train)\n",
    "print(model.predict(x_train))\n",
    "# print the test values and the predictions\n",
    "print(x_test)\n",
    "print(y_test)\n",
    "print(model.predict(x_test))\n",
    "\n",
    "\n",
    "\n",
    "\n"
   ],
   "metadata": {
    "collapsed": false,
    "pycharm": {
     "name": "#%%\n"
    }
   }
  },
  {
   "cell_type": "code",
   "execution_count": null,
   "outputs": [],
   "source": [
    "# Plot the network errors on the training and test sets depending on the number of iterations.\n",
    "import matplotlib.pyplot as plt\n",
    "plt.plot(model.history.history['loss'])\n",
    "plt.plot(model.history.history['val_loss'])\n",
    "plt.title('model loss')\n",
    "plt.ylabel('loss')\n",
    "plt.xlabel('epoch')\n",
    "plt.legend(['train', 'test'], loc='upper left')\n",
    "plt.show()\n"
   ],
   "metadata": {
    "collapsed": false,
    "pycharm": {
     "name": "#%%\n"
    }
   }
  }
 ],
 "metadata": {
  "kernelspec": {
   "display_name": "Python 3",
   "language": "python",
   "name": "python3"
  },
  "language_info": {
   "codemirror_mode": {
    "name": "ipython",
    "version": 2
   },
   "file_extension": ".py",
   "mimetype": "text/x-python",
   "name": "python",
   "nbconvert_exporter": "python",
   "pygments_lexer": "ipython2",
   "version": "2.7.6"
  }
 },
 "nbformat": 4,
 "nbformat_minor": 0
}